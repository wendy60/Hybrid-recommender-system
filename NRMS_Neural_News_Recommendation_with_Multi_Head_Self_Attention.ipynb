{
  "nbformat": 4,
  "nbformat_minor": 0,
  "metadata": {
    "colab": {
      "name": "NRMS: Neural News Recommendation with Multi-Head Self-Attention.ipynb",
      "provenance": [],
      "authorship_tag": "ABX9TyNrtke2POp05MKKcyR/pqoi",
      "include_colab_link": true
    },
    "kernelspec": {
      "name": "python3",
      "display_name": "Python 3"
    },
    "language_info": {
      "name": "python"
    },
    "accelerator": "GPU"
  },
  "cells": [
    {
      "cell_type": "markdown",
      "metadata": {
        "id": "view-in-github",
        "colab_type": "text"
      },
      "source": [
        "<a href=\"https://colab.research.google.com/github/wendy60/Hybrid-recommender-system/blob/initial-user-interest-model/NRMS_Neural_News_Recommendation_with_Multi_Head_Self_Attention.ipynb\" target=\"_parent\"><img src=\"https://colab.research.google.com/assets/colab-badge.svg\" alt=\"Open In Colab\"/></a>"
      ]
    },
    {
      "cell_type": "code",
      "metadata": {
        "id": "uDfyi922xQOF"
      },
      "source": [
        "pip install scrapbook"
      ],
      "execution_count": null,
      "outputs": []
    },
    {
      "cell_type": "code",
      "metadata": {
        "id": "WEXNWovvxafW"
      },
      "source": [
        "pip install recommenders"
      ],
      "execution_count": null,
      "outputs": []
    },
    {
      "cell_type": "code",
      "metadata": {
        "id": "XbKgmB0Vxan9"
      },
      "source": [
        "pip install tensorflow-gpu==1.15.2"
      ],
      "execution_count": null,
      "outputs": []
    },
    {
      "cell_type": "code",
      "metadata": {
        "colab": {
          "base_uri": "https://localhost:8080/"
        },
        "id": "F92ik1_dxawB",
        "outputId": "6660d9ce-fca5-46d8-d9c9-6c9e1fe35b20"
      },
      "source": [
        "import sys\n",
        "import os\n",
        "import numpy as np\n",
        "import zipfile\n",
        "from tqdm import tqdm\n",
        "import scrapbook as sb\n",
        "from tempfile import TemporaryDirectory\n",
        "import tensorflow as tf\n",
        "tf.get_logger().setLevel('ERROR') # only show error messages\n",
        "\n",
        "from recommenders.models.deeprec.deeprec_utils import download_deeprec_resources \n",
        "from recommenders.models.newsrec.newsrec_utils import prepare_hparams\n",
        "from recommenders.models.newsrec.models.nrms import NRMSModel\n",
        "from recommenders.models.newsrec.io.mind_iterator import MINDIterator\n",
        "from recommenders.models.newsrec.newsrec_utils import get_mind_data_set\n",
        "\n",
        "print(\"System version: {}\".format(sys.version))\n",
        "print(\"Tensorflow version: {}\".format(tf.__version__))\n"
      ],
      "execution_count": null,
      "outputs": [
        {
          "output_type": "stream",
          "name": "stdout",
          "text": [
            "System version: 3.7.12 (default, Sep 10 2021, 00:21:48) \n",
            "[GCC 7.5.0]\n",
            "Tensorflow version: 1.15.2\n"
          ]
        }
      ]
    },
    {
      "cell_type": "code",
      "metadata": {
        "id": "NFFUju7jyfC1"
      },
      "source": [
        "epochs = 5\n",
        "seed = 42\n",
        "batch_size = 32\n",
        "\n",
        "# Options: demo, small, large\n",
        "MIND_type = 'demo'"
      ],
      "execution_count": null,
      "outputs": []
    },
    {
      "cell_type": "code",
      "metadata": {
        "colab": {
          "base_uri": "https://localhost:8080/"
        },
        "id": "BEPaDWpfylF5",
        "outputId": "f6d686cc-f4db-4d0d-e318-f86219e75e66"
      },
      "source": [
        "tmpdir = TemporaryDirectory()\n",
        "data_path = tmpdir.name\n",
        "\n",
        "train_news_file = os.path.join(data_path, 'train', r'news.tsv')\n",
        "train_behaviors_file = os.path.join(data_path, 'train', r'behaviors.tsv')\n",
        "valid_news_file = os.path.join(data_path, 'valid', r'news.tsv')\n",
        "valid_behaviors_file = os.path.join(data_path, 'valid', r'behaviors.tsv')\n",
        "wordEmb_file = os.path.join(data_path, \"utils\", \"embedding.npy\")\n",
        "userDict_file = os.path.join(data_path, \"utils\", \"uid2index.pkl\")\n",
        "wordDict_file = os.path.join(data_path, \"utils\", \"word_dict.pkl\")\n",
        "yaml_file = os.path.join(data_path, \"utils\", r'nrms.yaml')\n",
        "\n",
        "mind_url, mind_train_dataset, mind_dev_dataset, mind_utils = get_mind_data_set(MIND_type)\n",
        "\n",
        "if not os.path.exists(train_news_file):\n",
        "    download_deeprec_resources(mind_url, os.path.join(data_path, 'train'), mind_train_dataset)\n",
        "    \n",
        "if not os.path.exists(valid_news_file):\n",
        "    download_deeprec_resources(mind_url, \\\n",
        "                               os.path.join(data_path, 'valid'), mind_dev_dataset)\n",
        "if not os.path.exists(yaml_file):\n",
        "    download_deeprec_resources(r'https://recodatasets.z20.web.core.windows.net/newsrec/', \\\n",
        "                               os.path.join(data_path, 'utils'), mind_utils)"
      ],
      "execution_count": null,
      "outputs": [
        {
          "output_type": "stream",
          "name": "stderr",
          "text": [
            "100%|██████████| 17.0k/17.0k [00:01<00:00, 12.4kKB/s]\n",
            "100%|██████████| 9.84k/9.84k [00:01<00:00, 9.19kKB/s]\n",
            "100%|██████████| 95.0k/95.0k [00:04<00:00, 22.2kKB/s]\n"
          ]
        }
      ]
    },
    {
      "cell_type": "code",
      "metadata": {
        "colab": {
          "base_uri": "https://localhost:8080/"
        },
        "id": "r6fEvRjEypKc",
        "outputId": "c3bef28a-3880-4a7a-916a-46a05905583e"
      },
      "source": [
        "hparams = prepare_hparams(yaml_file, \n",
        "                          wordEmb_file=wordEmb_file,\n",
        "                          wordDict_file=wordDict_file, \n",
        "                          userDict_file=userDict_file,\n",
        "                          batch_size=batch_size,\n",
        "                          epochs=epochs,\n",
        "                          show_step=10)\n",
        "print(hparams)"
      ],
      "execution_count": null,
      "outputs": [
        {
          "output_type": "stream",
          "name": "stdout",
          "text": [
            "data_format=news,iterator_type=None,support_quick_scoring=True,wordEmb_file=/tmp/tmp0c5hadae/utils/embedding.npy,wordDict_file=/tmp/tmp0c5hadae/utils/word_dict.pkl,userDict_file=/tmp/tmp0c5hadae/utils/uid2index.pkl,vertDict_file=None,subvertDict_file=None,title_size=30,body_size=None,word_emb_dim=300,word_size=None,user_num=None,vert_num=None,subvert_num=None,his_size=50,npratio=4,dropout=0.2,attention_hidden_dim=200,head_num=20,head_dim=20,cnn_activation=None,dense_activation=None,filter_num=200,window_size=3,vert_emb_dim=100,subvert_emb_dim=100,gru_unit=400,type=ini,user_emb_dim=50,learning_rate=0.0001,loss=cross_entropy_loss,optimizer=adam,epochs=5,batch_size=32,show_step=10,metrics=['group_auc', 'mean_mrr', 'ndcg@5;10']\n"
          ]
        }
      ]
    },
    {
      "cell_type": "code",
      "metadata": {
        "id": "qJPznKq6ysyK"
      },
      "source": [
        "iterator = MINDIterator\n"
      ],
      "execution_count": null,
      "outputs": []
    },
    {
      "cell_type": "code",
      "metadata": {
        "id": "Uq7fRw-ZyvfD"
      },
      "source": [
        "model = NRMSModel(hparams, iterator, seed=seed)\n"
      ],
      "execution_count": null,
      "outputs": []
    },
    {
      "cell_type": "code",
      "metadata": {
        "colab": {
          "base_uri": "https://localhost:8080/"
        },
        "id": "EebnOsCdyxVA",
        "outputId": "ae3a3291-9660-484f-91b3-55a5f2b75b61"
      },
      "source": [
        "print(model.run_eval(valid_news_file, valid_behaviors_file))\n"
      ],
      "execution_count": null,
      "outputs": [
        {
          "output_type": "stream",
          "name": "stderr",
          "text": [
            "586it [00:02, 230.18it/s]\n",
            "236it [00:06, 37.13it/s]\n",
            "7538it [00:01, 4918.88it/s]\n"
          ]
        },
        {
          "output_type": "stream",
          "name": "stdout",
          "text": [
            "{'group_auc': 0.4792, 'mean_mrr': 0.2059, 'ndcg@5': 0.2045, 'ndcg@10': 0.2701}\n"
          ]
        }
      ]
    },
    {
      "cell_type": "code",
      "metadata": {
        "colab": {
          "base_uri": "https://localhost:8080/"
        },
        "id": "Wb5PB8GryzWw",
        "outputId": "6060fab3-3010-40f1-93bf-599093c3443e"
      },
      "source": [
        "%%time\n",
        "model.fit(train_news_file, train_behaviors_file, valid_news_file, valid_behaviors_file)\n"
      ],
      "execution_count": null,
      "outputs": [
        {
          "output_type": "stream",
          "name": "stderr",
          "text": [
            "step 1080 , total_loss: 1.5143, data_loss: 1.4070: : 1086it [01:36, 11.31it/s]\n",
            "586it [00:01, 501.95it/s]\n",
            "236it [00:05, 42.13it/s]\n",
            "7538it [00:01, 5144.49it/s]\n"
          ]
        },
        {
          "output_type": "stream",
          "name": "stdout",
          "text": [
            "at epoch 1\n",
            "train info: logloss loss:1.5139183657823567\n",
            "eval info: group_auc:0.576, mean_mrr:0.2458, ndcg@10:0.3321, ndcg@5:0.2602\n",
            "at epoch 1 , train time: 96.0 eval time: 17.5\n"
          ]
        },
        {
          "output_type": "stream",
          "name": "stderr",
          "text": [
            "step 1080 , total_loss: 1.4159, data_loss: 1.2717: : 1086it [01:31, 11.85it/s]\n",
            "586it [00:01, 496.46it/s]\n",
            "236it [00:05, 42.27it/s]\n",
            "7538it [00:01, 4973.85it/s]\n"
          ]
        },
        {
          "output_type": "stream",
          "name": "stdout",
          "text": [
            "at epoch 2\n",
            "train info: logloss loss:1.4159993352591442\n",
            "eval info: group_auc:0.6017, mean_mrr:0.2558, ndcg@10:0.3475, ndcg@5:0.2735\n",
            "at epoch 2 , train time: 91.6 eval time: 17.5\n"
          ]
        },
        {
          "output_type": "stream",
          "name": "stderr",
          "text": [
            "step 1080 , total_loss: 1.3759, data_loss: 1.1641: : 1086it [01:31, 11.84it/s]\n",
            "586it [00:01, 504.42it/s]\n",
            "236it [00:05, 41.86it/s]\n",
            "7538it [00:01, 5074.44it/s]\n"
          ]
        },
        {
          "output_type": "stream",
          "name": "stdout",
          "text": [
            "at epoch 3\n",
            "train info: logloss loss:1.375670265536721\n",
            "eval info: group_auc:0.6052, mean_mrr:0.2634, ndcg@10:0.3553, ndcg@5:0.2825\n",
            "at epoch 3 , train time: 91.7 eval time: 17.4\n"
          ]
        },
        {
          "output_type": "stream",
          "name": "stderr",
          "text": [
            "step 1080 , total_loss: 1.3502, data_loss: 1.1403: : 1086it [01:31, 11.83it/s]\n",
            "586it [00:01, 500.29it/s]\n",
            "236it [00:05, 42.28it/s]\n",
            "7538it [00:01, 4925.39it/s]\n"
          ]
        },
        {
          "output_type": "stream",
          "name": "stdout",
          "text": [
            "at epoch 4\n",
            "train info: logloss loss:1.3503898715885085\n",
            "eval info: group_auc:0.6103, mean_mrr:0.2668, ndcg@10:0.3576, ndcg@5:0.2881\n",
            "at epoch 4 , train time: 91.8 eval time: 17.6\n"
          ]
        },
        {
          "output_type": "stream",
          "name": "stderr",
          "text": [
            "step 1080 , total_loss: 1.3300, data_loss: 1.3003: : 1086it [01:31, 11.85it/s]\n",
            "586it [00:01, 488.08it/s]\n",
            "236it [00:05, 42.23it/s]\n",
            "7538it [00:01, 4985.97it/s]\n"
          ]
        },
        {
          "output_type": "stream",
          "name": "stdout",
          "text": [
            "at epoch 5\n",
            "train info: logloss loss:1.3302437960552687\n",
            "eval info: group_auc:0.6095, mean_mrr:0.2687, ndcg@10:0.3606, ndcg@5:0.2887\n",
            "at epoch 5 , train time: 91.6 eval time: 17.7\n",
            "CPU times: user 9min 5s, sys: 26.2 s, total: 9min 31s\n",
            "Wall time: 9min 10s\n"
          ]
        },
        {
          "output_type": "execute_result",
          "data": {
            "text/plain": [
              "<recommenders.models.newsrec.models.nrms.NRMSModel at 0x7fc763ec4690>"
            ]
          },
          "metadata": {},
          "execution_count": 13
        }
      ]
    },
    {
      "cell_type": "code",
      "metadata": {
        "id": "-XCZ9j6Py3RY",
        "colab": {
          "base_uri": "https://localhost:8080/"
        },
        "outputId": "a997280e-39b1-457e-c870-232fd26afd7d"
      },
      "source": [
        "%%time\n",
        "res_syn = model.run_eval(valid_news_file, valid_behaviors_file)\n",
        "print(res_syn)"
      ],
      "execution_count": null,
      "outputs": [
        {
          "output_type": "stream",
          "name": "stderr",
          "text": [
            "586it [00:01, 470.37it/s]\n",
            "236it [00:05, 42.01it/s]\n",
            "7538it [00:01, 5024.04it/s]\n"
          ]
        },
        {
          "output_type": "stream",
          "name": "stdout",
          "text": [
            "{'group_auc': 0.6095, 'mean_mrr': 0.2687, 'ndcg@5': 0.2887, 'ndcg@10': 0.3606}\n",
            "CPU times: user 17.9 s, sys: 1.88 s, total: 19.8 s\n",
            "Wall time: 17.6 s\n"
          ]
        }
      ]
    },
    {
      "cell_type": "code",
      "metadata": {
        "id": "KyKpR9sBy6Tg",
        "colab": {
          "base_uri": "https://localhost:8080/",
          "height": 17
        },
        "outputId": "80017852-e0d1-4777-ba51-6fc43625378f"
      },
      "source": [
        "sb.glue(\"res_syn\", res_syn)\n"
      ],
      "execution_count": null,
      "outputs": [
        {
          "output_type": "display_data",
          "data": {
            "application/scrapbook.scrap.json+json": {
              "version": 1,
              "data": {
                "ndcg@10": 0.3606,
                "ndcg@5": 0.2887,
                "group_auc": 0.6095,
                "mean_mrr": 0.2687
              },
              "name": "res_syn",
              "encoder": "json"
            }
          },
          "metadata": {
            "scrapbook": {
              "data": true,
              "name": "res_syn",
              "display": false
            }
          }
        }
      ]
    },
    {
      "cell_type": "code",
      "metadata": {
        "id": "U4NWwCYSy8Tx"
      },
      "source": [
        "model_path = os.path.join(data_path, \"model\")\n",
        "os.makedirs(model_path, exist_ok=True)\n",
        "\n",
        "model.model.save_weights(os.path.join(model_path, \"nrms_ckpt\"))\n"
      ],
      "execution_count": null,
      "outputs": []
    },
    {
      "cell_type": "code",
      "metadata": {
        "id": "SWVnQw2Fy-wg",
        "colab": {
          "base_uri": "https://localhost:8080/"
        },
        "outputId": "c7eefa86-f589-43ad-b470-ab904b20a53f"
      },
      "source": [
        "group_impr_indexes, group_labels, group_preds = model.run_fast_eval(valid_news_file, valid_behaviors_file)\n"
      ],
      "execution_count": null,
      "outputs": [
        {
          "output_type": "stream",
          "name": "stderr",
          "text": [
            "586it [00:01, 465.20it/s]\n",
            "236it [00:05, 42.18it/s]\n",
            "7538it [00:01, 5043.88it/s]\n"
          ]
        }
      ]
    },
    {
      "cell_type": "code",
      "metadata": {
        "id": "UpV146w0zA-N",
        "colab": {
          "base_uri": "https://localhost:8080/"
        },
        "outputId": "a29a4d6c-6136-4c7a-f5bd-4607bef6f4ce"
      },
      "source": [
        "with open(os.path.join(data_path, 'prediction.txt'), 'w') as f:\n",
        "    for impr_index, preds in tqdm(zip(group_impr_indexes, group_preds)):\n",
        "        impr_index += 1\n",
        "        pred_rank = (np.argsort(np.argsort(preds)[::-1]) + 1).tolist()\n",
        "        pred_rank = '[' + ','.join([str(i) for i in pred_rank]) + ']'\n",
        "        f.write(' '.join([str(impr_index), pred_rank])+ '\\n')\n"
      ],
      "execution_count": null,
      "outputs": [
        {
          "output_type": "stream",
          "name": "stderr",
          "text": [
            "7538it [00:00, 33877.59it/s]\n"
          ]
        }
      ]
    },
    {
      "cell_type": "code",
      "metadata": {
        "id": "wWamOzhnzDe9"
      },
      "source": [
        "f = zipfile.ZipFile(os.path.join(data_path, 'prediction.zip'), 'w', zipfile.ZIP_DEFLATED)\n",
        "f.write(os.path.join(data_path, 'prediction.txt'), arcname='prediction.txt')\n",
        "f.close()"
      ],
      "execution_count": null,
      "outputs": []
    },
    {
      "cell_type": "code",
      "metadata": {
        "id": "A2R8kQHt_PGr"
      },
      "source": [
        ""
      ],
      "execution_count": null,
      "outputs": []
    }
  ]
}