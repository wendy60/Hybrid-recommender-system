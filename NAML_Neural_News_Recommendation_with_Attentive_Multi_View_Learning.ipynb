{
  "nbformat": 4,
  "nbformat_minor": 0,
  "metadata": {
    "colab": {
      "name": "NAML: Neural News Recommendation with Attentive Multi-View Learning.ipynb",
      "provenance": [],
      "collapsed_sections": [],
      "authorship_tag": "ABX9TyPOsKB5rTAFjywqgnp3/aFJ",
      "include_colab_link": true
    },
    "kernelspec": {
      "name": "python3",
      "display_name": "Python 3"
    },
    "language_info": {
      "name": "python"
    },
    "accelerator": "GPU"
  },
  "cells": [
    {
      "cell_type": "markdown",
      "metadata": {
        "id": "view-in-github",
        "colab_type": "text"
      },
      "source": [
        "<a href=\"https://colab.research.google.com/github/wendy60/Hybrid-recommender-system/blob/initial-user-interest-model/NAML_Neural_News_Recommendation_with_Attentive_Multi_View_Learning.ipynb\" target=\"_parent\"><img src=\"https://colab.research.google.com/assets/colab-badge.svg\" alt=\"Open In Colab\"/></a>"
      ]
    },
    {
      "cell_type": "code",
      "metadata": {
        "id": "kAOPk0ReZee4"
      },
      "source": [
        "pip install scrapbook"
      ],
      "execution_count": null,
      "outputs": []
    },
    {
      "cell_type": "code",
      "metadata": {
        "id": "eVWMnGdfZhQs"
      },
      "source": [
        "pip install recommenders"
      ],
      "execution_count": null,
      "outputs": []
    },
    {
      "cell_type": "code",
      "metadata": {
        "id": "EJnb7b3AZmYC"
      },
      "source": [
        "pip install tensorflow-gpu==1.15.2"
      ],
      "execution_count": null,
      "outputs": []
    },
    {
      "cell_type": "code",
      "metadata": {
        "colab": {
          "base_uri": "https://localhost:8080/"
        },
        "id": "i7WlydT9ZwP7",
        "outputId": "4c6f2362-4f0d-402d-9966-1b783d556e03"
      },
      "source": [
        "\n",
        "import sys\n",
        "import os\n",
        "import numpy as np\n",
        "import zipfile\n",
        "from tqdm import tqdm\n",
        "import scrapbook as sb\n",
        "from tempfile import TemporaryDirectory\n",
        "import tensorflow as tf\n",
        "tf.get_logger().setLevel('ERROR') # only show error messages\n",
        "\n",
        "from recommenders.models.deeprec.deeprec_utils import download_deeprec_resources \n",
        "from recommenders.models.newsrec.newsrec_utils import prepare_hparams\n",
        "from recommenders.models.newsrec.models.naml import NAMLModel\n",
        "from recommenders.models.newsrec.io.mind_all_iterator import MINDAllIterator\n",
        "from recommenders.models.newsrec.newsrec_utils import get_mind_data_set\n",
        "\n",
        "print(\"System version: {}\".format(sys.version))\n",
        "print(\"Tensorflow version: {}\".format(tf.__version__))"
      ],
      "execution_count": null,
      "outputs": [
        {
          "output_type": "stream",
          "name": "stdout",
          "text": [
            "System version: 3.7.12 (default, Sep 10 2021, 00:21:48) \n",
            "[GCC 7.5.0]\n",
            "Tensorflow version: 1.15.2\n"
          ]
        }
      ]
    },
    {
      "cell_type": "code",
      "metadata": {
        "id": "4LG0vjfVak4i"
      },
      "source": [
        "epochs = 5\n",
        "seed = 42\n",
        "batch_size = 32\n",
        "\n",
        "# Options: demo, small, large\n",
        "MIND_type = 'demo'"
      ],
      "execution_count": null,
      "outputs": []
    },
    {
      "cell_type": "code",
      "metadata": {
        "colab": {
          "base_uri": "https://localhost:8080/"
        },
        "id": "9QElpJySaqKj",
        "outputId": "c91bb94b-c50c-416b-af1a-97aec1266d8c"
      },
      "source": [
        "tmpdir = TemporaryDirectory()\n",
        "data_path = tmpdir.name\n",
        "\n",
        "train_news_file = os.path.join(data_path, 'train', r'news.tsv')\n",
        "train_behaviors_file = os.path.join(data_path, 'train', r'behaviors.tsv')\n",
        "valid_news_file = os.path.join(data_path, 'valid', r'news.tsv')\n",
        "valid_behaviors_file = os.path.join(data_path, 'valid', r'behaviors.tsv')\n",
        "wordEmb_file = os.path.join(data_path, \"utils\", \"embedding_all.npy\")\n",
        "userDict_file = os.path.join(data_path, \"utils\", \"uid2index.pkl\")\n",
        "wordDict_file = os.path.join(data_path, \"utils\", \"word_dict_all.pkl\")\n",
        "vertDict_file = os.path.join(data_path, \"utils\", \"vert_dict.pkl\")\n",
        "subvertDict_file = os.path.join(data_path, \"utils\", \"subvert_dict.pkl\")\n",
        "yaml_file = os.path.join(data_path, \"utils\", r'naml.yaml')\n",
        "\n",
        "mind_url, mind_train_dataset, mind_dev_dataset, mind_utils = get_mind_data_set(MIND_type)\n",
        "\n",
        "if not os.path.exists(train_news_file):\n",
        "    download_deeprec_resources(mind_url, os.path.join(data_path, 'train'), mind_train_dataset)\n",
        "    \n",
        "if not os.path.exists(valid_news_file):\n",
        "    download_deeprec_resources(mind_url, \\\n",
        "                               os.path.join(data_path, 'valid'), mind_dev_dataset)\n",
        "if not os.path.exists(yaml_file):\n",
        "    download_deeprec_resources(r'https://recodatasets.z20.web.core.windows.net/newsrec/', \\\n",
        "                               os.path.join(data_path, 'utils'), mind_utils)"
      ],
      "execution_count": null,
      "outputs": [
        {
          "output_type": "stream",
          "name": "stderr",
          "text": [
            "100%|██████████| 17.0k/17.0k [00:00<00:00, 27.1kKB/s]\n",
            "100%|██████████| 9.84k/9.84k [00:00<00:00, 20.5kKB/s]\n",
            "100%|██████████| 95.0k/95.0k [00:02<00:00, 35.3kKB/s]\n"
          ]
        }
      ]
    },
    {
      "cell_type": "code",
      "metadata": {
        "colab": {
          "base_uri": "https://localhost:8080/"
        },
        "id": "RUuktPhLauJp",
        "outputId": "855a5ad1-4b7d-47b8-eb1a-a9bf83d99fc9"
      },
      "source": [
        "hparams = prepare_hparams(yaml_file, \n",
        "                          wordEmb_file=wordEmb_file,\n",
        "                          wordDict_file=wordDict_file, \n",
        "                          userDict_file=userDict_file,\n",
        "                          vertDict_file=vertDict_file, \n",
        "                          subvertDict_file=subvertDict_file,\n",
        "                          batch_size=batch_size,\n",
        "                          vert_num = 19,\n",
        "                          epochs=epochs)\n",
        "print(hparams)"
      ],
      "execution_count": null,
      "outputs": [
        {
          "output_type": "stream",
          "name": "stdout",
          "text": [
            "data_format=naml,iterator_type=None,support_quick_scoring=True,wordEmb_file=/tmp/tmpwur_2mby/utils/embedding_all.npy,wordDict_file=/tmp/tmpwur_2mby/utils/word_dict_all.pkl,userDict_file=/tmp/tmpwur_2mby/utils/uid2index.pkl,vertDict_file=/tmp/tmpwur_2mby/utils/vert_dict.pkl,subvertDict_file=/tmp/tmpwur_2mby/utils/subvert_dict.pkl,title_size=30,body_size=50,word_emb_dim=300,word_size=None,user_num=None,vert_num=19,subvert_num=249,his_size=50,npratio=4,dropout=0.2,attention_hidden_dim=200,head_num=4,head_dim=100,cnn_activation=relu,dense_activation=relu,filter_num=400,window_size=3,vert_emb_dim=100,subvert_emb_dim=100,gru_unit=400,type=ini,user_emb_dim=50,learning_rate=0.0001,loss=cross_entropy_loss,optimizer=adam,epochs=5,batch_size=32,show_step=100000,metrics=['group_auc', 'mean_mrr', 'ndcg@5;10']\n"
          ]
        }
      ]
    },
    {
      "cell_type": "code",
      "metadata": {
        "id": "ftL5-JJAayWY"
      },
      "source": [
        "iterator = MINDAllIterator"
      ],
      "execution_count": null,
      "outputs": []
    },
    {
      "cell_type": "code",
      "metadata": {
        "id": "1jz8FBiTa2iy"
      },
      "source": [
        "model = NAMLModel(hparams, iterator, seed=seed)\n"
      ],
      "execution_count": null,
      "outputs": []
    },
    {
      "cell_type": "code",
      "metadata": {
        "colab": {
          "base_uri": "https://localhost:8080/"
        },
        "id": "fK9EzfNYa4vV",
        "outputId": "1d0d8d8f-e16d-4ff1-8a83-645fdd2105c0"
      },
      "source": [
        "print(model.run_eval(valid_news_file, valid_behaviors_file))\n"
      ],
      "execution_count": null,
      "outputs": [
        {
          "output_type": "stream",
          "name": "stderr",
          "text": [
            "18693it [01:08, 274.42it/s]\n",
            "7507it [00:26, 283.06it/s]\n",
            "7538it [00:01, 5010.61it/s]\n"
          ]
        },
        {
          "output_type": "stream",
          "name": "stdout",
          "text": [
            "{'group_auc': 0.482, 'mean_mrr': 0.2107, 'ndcg@5': 0.2149, 'ndcg@10': 0.2777}\n"
          ]
        }
      ]
    },
    {
      "cell_type": "code",
      "metadata": {
        "id": "GdqQ-HB2a9iI",
        "colab": {
          "base_uri": "https://localhost:8080/"
        },
        "outputId": "4ca2de52-3486-4d6c-a515-d2025aba88ff"
      },
      "source": [
        "%%time\n",
        "model.fit(train_news_file, train_behaviors_file,valid_news_file, valid_behaviors_file)\n"
      ],
      "execution_count": null,
      "outputs": [
        {
          "metadata": {
            "tags": null
          },
          "name": "stderr",
          "output_type": "stream",
          "text": [
            "1085it [02:30,  7.22it/s]\n",
            "18693it [01:03, 296.21it/s]\n",
            "7507it [00:26, 288.24it/s]\n",
            "7538it [00:01, 4914.39it/s]\n"
          ]
        },
        {
          "metadata": {
            "tags": null
          },
          "name": "stdout",
          "output_type": "stream",
          "text": [
            "at epoch 1\n",
            "train info: logloss loss:1.3007966629920467\n",
            "eval info: group_auc:0.6449, mean_mrr:0.2948, ndcg@10:0.3926, ndcg@5:0.3273\n",
            "at epoch 1 , train time: 150.3 eval time: 99.6\n"
          ]
        },
        {
          "metadata": {
            "tags": null
          },
          "name": "stderr",
          "output_type": "stream",
          "text": [
            "1085it [02:30,  7.22it/s]\n",
            "18693it [01:03, 294.90it/s]\n",
            "7507it [00:26, 288.58it/s]\n",
            "7538it [00:01, 5063.21it/s]\n"
          ]
        },
        {
          "metadata": {
            "tags": null
          },
          "name": "stdout",
          "output_type": "stream",
          "text": [
            "at epoch 2\n",
            "train info: logloss loss:1.2934580073927955\n",
            "eval info: group_auc:0.6492, mean_mrr:0.3058, ndcg@10:0.4008, ndcg@5:0.3356\n",
            "at epoch 2 , train time: 150.3 eval time: 99.9\n"
          ]
        },
        {
          "output_type": "stream",
          "name": "stderr",
          "text": [
            "1085it [02:30,  7.21it/s]\n",
            "18693it [01:02, 300.76it/s]\n",
            "7507it [00:26, 285.80it/s]\n",
            "7538it [00:01, 4898.52it/s]\n"
          ]
        },
        {
          "output_type": "stream",
          "name": "stdout",
          "text": [
            "at epoch 3\n",
            "train info: logloss loss:1.2792713094966204\n",
            "eval info: group_auc:0.6505, mean_mrr:0.2996, ndcg@10:0.394, ndcg@5:0.3281\n",
            "at epoch 3 , train time: 150.4 eval time: 98.7\n"
          ]
        },
        {
          "output_type": "stream",
          "name": "stderr",
          "text": [
            "1085it [02:31,  7.15it/s]\n",
            "18693it [01:03, 293.96it/s]\n",
            "7507it [00:26, 285.47it/s]\n",
            "7538it [00:01, 4927.20it/s]\n"
          ]
        },
        {
          "output_type": "stream",
          "name": "stdout",
          "text": [
            "at epoch 4\n",
            "train info: logloss loss:1.2672772317987433\n",
            "eval info: group_auc:0.6533, mean_mrr:0.3029, ndcg@10:0.3982, ndcg@5:0.3333\n",
            "at epoch 4 , train time: 151.7 eval time: 100.2\n"
          ]
        },
        {
          "output_type": "stream",
          "name": "stderr",
          "text": [
            "1085it [02:30,  7.19it/s]\n",
            "18693it [01:03, 293.81it/s]\n",
            "7507it [00:26, 288.17it/s]\n",
            "7538it [00:01, 5014.21it/s]\n"
          ]
        },
        {
          "output_type": "stream",
          "name": "stdout",
          "text": [
            "at epoch 5\n",
            "train info: logloss loss:1.253925045349631\n",
            "eval info: group_auc:0.655, mean_mrr:0.3033, ndcg@10:0.3994, ndcg@5:0.3333\n",
            "at epoch 5 , train time: 151.0 eval time: 100.0\n",
            "CPU times: user 21min 25s, sys: 1min 37s, total: 23min 3s\n",
            "Wall time: 20min 52s\n"
          ]
        },
        {
          "output_type": "execute_result",
          "data": {
            "text/plain": [
              "<recommenders.models.newsrec.models.naml.NAMLModel at 0x7f93dd1d6410>"
            ]
          },
          "metadata": {},
          "execution_count": 15
        }
      ]
    },
    {
      "cell_type": "code",
      "metadata": {
        "colab": {
          "base_uri": "https://localhost:8080/"
        },
        "id": "SbO3c8LxRndh",
        "outputId": "71a9f1ad-d9aa-4ee2-923d-32c80bd41a2c"
      },
      "source": [
        "%%time\n",
        "res_syn = model.run_eval(valid_news_file, valid_behaviors_file)\n",
        "print(res_syn)"
      ],
      "execution_count": null,
      "outputs": [
        {
          "output_type": "stream",
          "name": "stderr",
          "text": [
            "18693it [01:03, 293.55it/s]\n",
            "7507it [00:26, 287.28it/s]\n",
            "7538it [00:01, 5115.77it/s]\n"
          ]
        },
        {
          "output_type": "stream",
          "name": "stdout",
          "text": [
            "{'group_auc': 0.655, 'mean_mrr': 0.3033, 'ndcg@5': 0.3333, 'ndcg@10': 0.3994}\n",
            "CPU times: user 2min 2s, sys: 15.3 s, total: 2min 17s\n",
            "Wall time: 1min 40s\n"
          ]
        }
      ]
    },
    {
      "cell_type": "code",
      "metadata": {
        "id": "ZxLN9TpxRzYa"
      },
      "source": [
        "sb.glue(\"res_syn\", res_syn)"
      ],
      "execution_count": null,
      "outputs": []
    },
    {
      "cell_type": "code",
      "metadata": {
        "id": "xnFgvBBiR2nM"
      },
      "source": [
        "model_path = os.path.join(data_path, \"model\")\n",
        "os.makedirs(model_path, exist_ok=True)\n",
        "\n",
        "model.model.save_weights(os.path.join(model_path, \"naml_ckpt\"))"
      ],
      "execution_count": null,
      "outputs": []
    },
    {
      "cell_type": "code",
      "metadata": {
        "colab": {
          "base_uri": "https://localhost:8080/"
        },
        "id": "zQGnNLjeR8cn",
        "outputId": "88aa162b-36bf-4251-9a48-981d44759ea9"
      },
      "source": [
        "group_impr_indexes, group_labels, group_preds = model.run_fast_eval(valid_news_file, valid_behaviors_file)\n"
      ],
      "execution_count": null,
      "outputs": [
        {
          "output_type": "stream",
          "name": "stderr",
          "text": [
            "18693it [01:04, 291.37it/s]\n",
            "7507it [00:26, 285.87it/s]\n",
            "7538it [00:01, 5130.49it/s]\n"
          ]
        }
      ]
    },
    {
      "cell_type": "code",
      "metadata": {
        "id": "6xEgNBvISBBZ"
      },
      "source": [
        "with open(os.path.join(data_path, 'prediction.txt'), 'w') as f:\n",
        "    for impr_index, preds in tqdm(zip(group_impr_indexes, group_preds)):\n",
        "        impr_index += 1\n",
        "        pred_rank = (np.argsort(np.argsort(preds)[::-1]) + 1).tolist()\n",
        "        pred_rank = '[' + ','.join([str(i) for i in pred_rank]) + ']'\n",
        "        f.write(' '.join([str(impr_index), pred_rank])+ '\\n')\n"
      ],
      "execution_count": null,
      "outputs": []
    },
    {
      "cell_type": "code",
      "metadata": {
        "id": "LCxMGnizSEnR"
      },
      "source": [
        "\n",
        "f = zipfile.ZipFile(os.path.join(data_path, 'prediction.zip'), 'w', zipfile.ZIP_DEFLATED)\n",
        "f.write(os.path.join(data_path, 'prediction.txt'), arcname='prediction.txt')\n",
        "f.close()"
      ],
      "execution_count": null,
      "outputs": []
    }
  ]
}