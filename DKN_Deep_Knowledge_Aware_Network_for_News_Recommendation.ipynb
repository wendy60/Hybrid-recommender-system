{
  "nbformat": 4,
  "nbformat_minor": 0,
  "metadata": {
    "colab": {
      "name": "DKN : Deep Knowledge-Aware Network for News Recommendation.ipynb",
      "provenance": [],
      "toc_visible": true,
      "authorship_tag": "ABX9TyMwHuMxILgALaZRDYUTC4Y2",
      "include_colab_link": true
    },
    "kernelspec": {
      "name": "python3",
      "display_name": "Python 3"
    },
    "language_info": {
      "name": "python"
    }
  },
  "cells": [
    {
      "cell_type": "markdown",
      "metadata": {
        "id": "view-in-github",
        "colab_type": "text"
      },
      "source": [
        "<a href=\"https://colab.research.google.com/github/wendy60/Hybrid-recommender-system/blob/initial-user-interest-model/DKN_Deep_Knowledge_Aware_Network_for_News_Recommendation.ipynb\" target=\"_parent\"><img src=\"https://colab.research.google.com/assets/colab-badge.svg\" alt=\"Open In Colab\"/></a>"
      ]
    },
    {
      "cell_type": "code",
      "metadata": {
        "id": "d3hyDoiHxwzn"
      },
      "source": [
        "##Microsoft News Dataset (MIND)"
      ],
      "execution_count": null,
      "outputs": []
    },
    {
      "cell_type": "markdown",
      "metadata": {
        "id": "1Q53PPruTbGv"
      },
      "source": [
        "# **Global settings and imports**"
      ]
    },
    {
      "cell_type": "code",
      "metadata": {
        "id": "eBXY9EO1PoM3"
      },
      "source": [
        "pip install scrapbook"
      ],
      "execution_count": null,
      "outputs": []
    },
    {
      "cell_type": "code",
      "metadata": {
        "id": "VVrvAEGtPtnA"
      },
      "source": [
        "pip install recommenders"
      ],
      "execution_count": null,
      "outputs": []
    },
    {
      "cell_type": "code",
      "metadata": {
        "id": "t9Gqes7wSLaZ"
      },
      "source": [
        "pip install tensorflow-gpu==1.15.2"
      ],
      "execution_count": null,
      "outputs": []
    },
    {
      "cell_type": "code",
      "metadata": {
        "colab": {
          "base_uri": "https://localhost:8080/"
        },
        "id": "a-amIT06MdAR",
        "outputId": "ad3c578a-223c-418e-a3e8-580f65c6724f"
      },
      "source": [
        "import sys\n",
        "import os\n",
        "from tempfile import TemporaryDirectory\n",
        "import scrapbook as sb\n",
        "import tensorflow as tf\n",
        "tf.get_logger().setLevel('ERROR') # only show error messages\n",
        "\n",
        "from recommenders.models.deeprec.deeprec_utils import download_deeprec_resources, prepare_hparams\n",
        "from recommenders.models.deeprec.models.dkn import DKN\n",
        "from recommenders.models.deeprec.io.dkn_iterator import DKNTextIterator\n",
        "\n",
        "print(f\"System version: {sys.version}\")\n",
        "print(f\"Tensorflow version: {tf.__version__}\")"
      ],
      "execution_count": null,
      "outputs": [
        {
          "output_type": "stream",
          "name": "stdout",
          "text": [
            "System version: 3.7.12 (default, Sep 10 2021, 00:21:48) \n",
            "[GCC 7.5.0]\n",
            "Tensorflow version: 1.15.2\n"
          ]
        }
      ]
    },
    {
      "cell_type": "markdown",
      "metadata": {
        "id": "lAW1u2njTrXV"
      },
      "source": [
        "# **Download and load data**"
      ]
    },
    {
      "cell_type": "code",
      "metadata": {
        "colab": {
          "base_uri": "https://localhost:8080/"
        },
        "id": "5n3j1brwN0fL",
        "outputId": "1766d894-f17d-4f20-e8f2-fa75ec201d33"
      },
      "source": [
        "tmpdir = TemporaryDirectory()\n",
        "data_path = os.path.join(tmpdir.name, \"mind-demo-dkn\")\n",
        "\n",
        "yaml_file = os.path.join(data_path, r'dkn.yaml')\n",
        "train_file = os.path.join(data_path, r'train_mind_demo.txt')\n",
        "valid_file = os.path.join(data_path, r'valid_mind_demo.txt')\n",
        "test_file = os.path.join(data_path, r'test_mind_demo.txt')\n",
        "news_feature_file = os.path.join(data_path, r'doc_feature.txt')\n",
        "user_history_file = os.path.join(data_path, r'user_history.txt')\n",
        "wordEmb_file = os.path.join(data_path, r'word_embeddings_100.npy')\n",
        "entityEmb_file = os.path.join(data_path, r'TransE_entity2vec_100.npy')\n",
        "contextEmb_file = os.path.join(data_path, r'TransE_context2vec_100.npy')\n",
        "if not os.path.exists(yaml_file):\n",
        "    download_deeprec_resources(r'https://recodatasets.z20.web.core.windows.net/deeprec/', tmpdir.name, 'mind-demo-dkn.zip')\n"
      ],
      "execution_count": null,
      "outputs": [
        {
          "output_type": "stream",
          "name": "stderr",
          "text": [
            "100%|██████████| 11.3k/11.3k [00:00<00:00, 13.2kKB/s]\n"
          ]
        }
      ]
    },
    {
      "cell_type": "markdown",
      "metadata": {
        "id": "8T9oX0FQT8gs"
      },
      "source": [
        "\n",
        "# **Create hyper-parameters**"
      ]
    },
    {
      "cell_type": "code",
      "metadata": {
        "id": "pTjiLCHtOKH2"
      },
      "source": [
        "\n",
        "epochs = 10\n",
        "history_size = 50\n",
        "batch_size = 100"
      ],
      "execution_count": null,
      "outputs": []
    },
    {
      "cell_type": "code",
      "metadata": {
        "colab": {
          "base_uri": "https://localhost:8080/"
        },
        "id": "lQRtjxIvOVyG",
        "outputId": "f267da64-2f0a-4ab2-9f6b-6502f23b78f9"
      },
      "source": [
        "hparams = prepare_hparams(yaml_file,\n",
        "                          news_feature_file = news_feature_file,\n",
        "                          user_history_file = user_history_file,\n",
        "                          wordEmb_file=wordEmb_file,\n",
        "                          entityEmb_file=entityEmb_file,\n",
        "                          contextEmb_file=contextEmb_file,\n",
        "                          epochs=epochs,\n",
        "                          history_size=history_size,\n",
        "                          batch_size=batch_size)\n",
        "print(hparams)"
      ],
      "execution_count": null,
      "outputs": [
        {
          "output_type": "stream",
          "name": "stdout",
          "text": [
            "kg_file=None,user_clicks=None,FEATURE_COUNT=None,FIELD_COUNT=None,data_format=dkn,PAIR_NUM=None,DNN_FIELD_NUM=None,n_user=None,n_item=None,n_user_attr=None,n_item_attr=None,iterator_type=None,SUMMARIES_DIR=None,MODEL_DIR=None,wordEmb_file=/tmp/tmpx7kiklp4/mind-demo-dkn/word_embeddings_100.npy,entityEmb_file=/tmp/tmpx7kiklp4/mind-demo-dkn/TransE_entity2vec_100.npy,contextEmb_file=/tmp/tmpx7kiklp4/mind-demo-dkn/TransE_context2vec_100.npy,news_feature_file=/tmp/tmpx7kiklp4/mind-demo-dkn/doc_feature.txt,user_history_file=/tmp/tmpx7kiklp4/mind-demo-dkn/user_history.txt,use_entity=True,use_context=True,doc_size=10,history_size=50,word_size=12600,entity_size=3987,entity_dim=100,entity_embedding_method=None,transform=True,train_ratio=None,dim=100,layer_sizes=[300],cross_layer_sizes=None,cross_layers=None,activation=['sigmoid'],cross_activation=identity,user_dropout=False,dropout=[0.0],attention_layer_sizes=100,attention_activation=relu,attention_dropout=0.0,model_type=dkn,method=classification,load_saved_model=False,load_model_name=None,filter_sizes=[1, 2, 3],num_filters=100,mu=None,fast_CIN_d=0,use_Linear_part=False,use_FM_part=False,use_CIN_part=False,use_DNN_part=False,init_method=uniform,init_value=0.1,embed_l2=1e-06,embed_l1=0.0,layer_l2=1e-06,layer_l1=0.0,cross_l2=0.0,cross_l1=0.0,reg_kg=0.0,learning_rate=0.0005,lr_rs=1,lr_kg=0.5,kg_training_interval=5,max_grad_norm=2,is_clip_norm=0,dtype=32,loss=log_loss,optimizer=adam,epochs=10,batch_size=100,enable_BN=True,show_step=10000,save_model=False,save_epoch=2,metrics=['auc'],write_tfevents=False,item_embedding_dim=None,cate_embedding_dim=None,user_embedding_dim=None,train_num_ngs=4,need_sample=True,embedding_dropout=0.0,user_vocab=None,item_vocab=None,cate_vocab=None,pairwise_metrics=['group_auc', 'mean_mrr', 'ndcg@5;10'],EARLY_STOP=100,max_seq_length=None,hidden_size=None,L=None,T=None,n_v=None,n_h=None,min_seq_length=1,attention_size=None,att_fcn_layer_sizes=None,dilations=None,kernel_size=None,embed_size=None,n_layers=None,decay=None,eval_epoch=None,top_k=None,slots=5,cell=SUM\n"
          ]
        }
      ]
    },
    {
      "cell_type": "markdown",
      "metadata": {
        "id": "meR2en9cUGvp"
      },
      "source": [
        "# **Train the DKN model**"
      ]
    },
    {
      "cell_type": "code",
      "metadata": {
        "id": "rFxaG22NOY2o"
      },
      "source": [
        "\n",
        "model = DKN(hparams, DKNTextIterator)"
      ],
      "execution_count": null,
      "outputs": []
    },
    {
      "cell_type": "code",
      "metadata": {
        "colab": {
          "base_uri": "https://localhost:8080/"
        },
        "id": "sqRIrxNlSkd0",
        "outputId": "1208c537-5a15-400e-f347-79ad2028cec1"
      },
      "source": [
        "\n",
        "print(model.run_eval(valid_file))"
      ],
      "execution_count": null,
      "outputs": [
        {
          "output_type": "stream",
          "name": "stdout",
          "text": [
            "{'auc': 0.4641, 'group_auc': 0.4607, 'mean_mrr': 0.1394, 'ndcg@5': 0.1309, 'ndcg@10': 0.1793}\n"
          ]
        }
      ]
    },
    {
      "cell_type": "code",
      "metadata": {
        "colab": {
          "base_uri": "https://localhost:8080/"
        },
        "id": "q9KTV2DfSpVY",
        "outputId": "59f1ca94-7ef0-4354-ce62-d1220be1048e"
      },
      "source": [
        "model.fit(train_file, valid_file)"
      ],
      "execution_count": null,
      "outputs": [
        {
          "output_type": "stream",
          "name": "stdout",
          "text": [
            "at epoch 1\n",
            "train info: logloss loss:0.6839394362296088\n",
            "eval info: auc:0.5373, group_auc:0.5104, mean_mrr:0.1706, ndcg@10:0.2349, ndcg@5:0.1716\n",
            "at epoch 1 , train time: 375.8 eval time: 60.6\n",
            "at epoch 2\n",
            "train info: logloss loss:0.6197499130236901\n",
            "eval info: auc:0.5405, group_auc:0.4909, mean_mrr:0.167, ndcg@10:0.2273, ndcg@5:0.1657\n",
            "at epoch 2 , train time: 374.6 eval time: 60.6\n",
            "at epoch 3\n",
            "train info: logloss loss:0.5857534601779307\n",
            "eval info: auc:0.5567, group_auc:0.5098, mean_mrr:0.1691, ndcg@10:0.2302, ndcg@5:0.1673\n",
            "at epoch 3 , train time: 374.2 eval time: 60.7\n",
            "at epoch 4\n",
            "train info: logloss loss:0.5581357621793019\n",
            "eval info: auc:0.5875, group_auc:0.5593, mean_mrr:0.1758, ndcg@10:0.2405, ndcg@5:0.1816\n",
            "at epoch 4 , train time: 374.4 eval time: 60.5\n",
            "at epoch 5\n",
            "train info: logloss loss:0.5365664201267695\n",
            "eval info: auc:0.6073, group_auc:0.6005, mean_mrr:0.2026, ndcg@10:0.2727, ndcg@5:0.2057\n",
            "at epoch 5 , train time: 375.1 eval time: 60.4\n",
            "at epoch 6\n",
            "train info: logloss loss:0.5157902610756583\n",
            "eval info: auc:0.6038, group_auc:0.5882, mean_mrr:0.1947, ndcg@10:0.2641, ndcg@5:0.2009\n",
            "at epoch 6 , train time: 374.1 eval time: 60.5\n",
            "at epoch 7\n",
            "train info: logloss loss:0.49606283046936583\n",
            "eval info: auc:0.6025, group_auc:0.5933, mean_mrr:0.1938, ndcg@10:0.2664, ndcg@5:0.2013\n",
            "at epoch 7 , train time: 379.6 eval time: 60.8\n",
            "at epoch 8\n",
            "train info: logloss loss:0.4808049762653092\n",
            "eval info: auc:0.6025, group_auc:0.5969, mean_mrr:0.1989, ndcg@10:0.2703, ndcg@5:0.1992\n",
            "at epoch 8 , train time: 387.5 eval time: 61.8\n",
            "at epoch 9\n",
            "train info: logloss loss:0.465107705507238\n",
            "eval info: auc:0.6127, group_auc:0.5997, mean_mrr:0.1901, ndcg@10:0.2647, ndcg@5:0.196\n",
            "at epoch 9 , train time: 391.8 eval time: 62.0\n",
            "at epoch 10\n",
            "train info: logloss loss:0.44429684531385616\n",
            "eval info: auc:0.6118, group_auc:0.6129, mean_mrr:0.1998, ndcg@10:0.2768, ndcg@5:0.2111\n",
            "at epoch 10 , train time: 390.9 eval time: 62.4\n"
          ]
        },
        {
          "output_type": "execute_result",
          "data": {
            "text/plain": [
              "<recommenders.models.deeprec.models.dkn.DKN at 0x7fb55583a790>"
            ]
          },
          "metadata": {},
          "execution_count": 7
        }
      ]
    },
    {
      "cell_type": "markdown",
      "metadata": {
        "id": "W0PyVi5IUTjf"
      },
      "source": [
        "# **Evaluate the DKN model**"
      ]
    },
    {
      "cell_type": "code",
      "metadata": {
        "colab": {
          "base_uri": "https://localhost:8080/"
        },
        "id": "sW_vCWz-S9AY",
        "outputId": "8b167a6e-6ec6-46ac-f856-bb25b61b2cc8"
      },
      "source": [
        "res = model.run_eval(test_file)\n",
        "print(res)"
      ],
      "execution_count": null,
      "outputs": [
        {
          "output_type": "stream",
          "name": "stdout",
          "text": [
            "{'auc': 0.6016, 'group_auc': 0.592, 'mean_mrr': 0.2008, 'ndcg@5': 0.2035, 'ndcg@10': 0.2727}\n"
          ]
        }
      ]
    },
    {
      "cell_type": "code",
      "metadata": {
        "colab": {
          "base_uri": "https://localhost:8080/",
          "height": 17
        },
        "id": "S2Qr-ZduTXAf",
        "outputId": "724e65fe-5988-4597-822c-8ef4a53f6385"
      },
      "source": [
        "sb.glue(\"res\", res)"
      ],
      "execution_count": null,
      "outputs": [
        {
          "output_type": "display_data",
          "data": {
            "application/scrapbook.scrap.json+json": {
              "version": 1,
              "data": {
                "ndcg@10": 0.2727,
                "auc": 0.6016,
                "ndcg@5": 0.2035,
                "group_auc": 0.592,
                "mean_mrr": 0.2008
              },
              "name": "res",
              "encoder": "json"
            }
          },
          "metadata": {
            "scrapbook": {
              "data": true,
              "name": "res",
              "display": false
            }
          }
        }
      ]
    },
    {
      "cell_type": "code",
      "metadata": {
        "id": "jUd2zsR-kbQ9"
      },
      "source": [
        ""
      ],
      "execution_count": null,
      "outputs": []
    }
  ]
}