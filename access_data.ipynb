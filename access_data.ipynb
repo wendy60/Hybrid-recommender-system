{
  "nbformat": 4,
  "nbformat_minor": 0,
  "metadata": {
    "colab": {
      "name": "access data.ipynb",
      "provenance": [],
      "collapsed_sections": [],
      "toc_visible": true,
      "authorship_tag": "ABX9TyNnspzYC+JEwaTzsZYiqH6L",
      "include_colab_link": true
    },
    "kernelspec": {
      "name": "python3",
      "display_name": "Python 3"
    },
    "language_info": {
      "name": "python"
    }
  },
  "cells": [
    {
      "cell_type": "markdown",
      "metadata": {
        "id": "view-in-github",
        "colab_type": "text"
      },
      "source": [
        "<a href=\"https://colab.research.google.com/github/wendy60/Hybrid-recommender-system/blob/second-submit/access_data.ipynb\" target=\"_parent\"><img src=\"https://colab.research.google.com/assets/colab-badge.svg\" alt=\"Open In Colab\"/></a>"
      ]
    },
    {
      "cell_type": "markdown",
      "source": [
        "# **Download dataset**"
      ],
      "metadata": {
        "id": "7nZMKyymKTHW"
      }
    },
    {
      "cell_type": "code",
      "metadata": {
        "id": "FHNteQq3vpdK"
      },
      "source": [
        "import urllib.request"
      ],
      "execution_count": null,
      "outputs": []
    },
    {
      "cell_type": "code",
      "metadata": {
        "id": "RNX3Cr_YvNli"
      },
      "source": [
        "import os\n",
        "import tempfile\n",
        "import shutil\n",
        "import urllib\n",
        "import zipfile\n",
        "import pandas as pd\n",
        "\n",
        "# Temporary folder for data we need during execution of this notebook \n",
        "\n",
        "temp_dir = os.path.join(tempfile.gettempdir(), 'mind')\n",
        "os.makedirs(temp_dir, exist_ok=True)\n",
        "\n",
        "# The dataset is split into training and validation set, each with a large and small version.\n",
        "# The format of the four files are the same.\n",
        "\n",
        "base_url = 'https://mind201910small.blob.core.windows.net/release'\n",
        "training_small_url = f'{base_url}/MINDsmall_train.zip'\n",
        "validation_small_url = f'{base_url}/MINDsmall_dev.zip'\n",
        "training_large_url = f'{base_url}/MINDlarge_train.zip'\n",
        "validation_large_url = f'{base_url}/MINDlarge_dev.zip'"
      ],
      "execution_count": null,
      "outputs": []
    },
    {
      "cell_type": "code",
      "metadata": {
        "id": "d_0Cl0K_vR4y"
      },
      "source": [
        "def download_url(url,\n",
        "                 destination_filename=None,\n",
        "                 progress_updater=None,\n",
        "                 force_download=False,\n",
        "                 verbose=True):\n",
        "    \"\"\"\n",
        "    Download a URL to a temporary file\n",
        "    \"\"\"\n",
        "    if not verbose:\n",
        "        progress_updater = None\n",
        "    \n",
        "\n",
        "    if destination_filename is None:\n",
        "        url_as_filename = url.replace('://', '_').replace('/', '_')\n",
        "        destination_filename = \\\n",
        "            os.path.join(temp_dir,url_as_filename)\n",
        "    if (not force_download) and (os.path.isfile(destination_filename)):\n",
        "        if verbose:\n",
        "            print('Bypassing download of already-downloaded file {}'.format(\n",
        "                os.path.basename(url)))\n",
        "        return destination_filename\n",
        "    if verbose:\n",
        "        print('Downloading file {} to {}'.format(os.path.basename(url),\n",
        "                                                 destination_filename),\n",
        "              end='')\n",
        "    urllib.request.urlretrieve(url, destination_filename, progress_updater)\n",
        "    assert (os.path.isfile(destination_filename))\n",
        "    nBytes = os.path.getsize(destination_filename)\n",
        "    if verbose:\n",
        "        print('...done, {} bytes.'.format(nBytes))\n",
        "    return destination_filename"
      ],
      "execution_count": null,
      "outputs": []
    },
    {
      "cell_type": "code",
      "metadata": {
        "colab": {
          "base_uri": "https://localhost:8080/"
        },
        "id": "a8C8z9b_vWsA",
        "outputId": "dd5b5a57-9679-4188-b389-8c6bc005d617"
      },
      "source": [
        "zip_path = download_url(validation_small_url, verbose=True)\n",
        "with zipfile.ZipFile(zip_path, 'r') as zip_ref:\n",
        "    zip_ref.extractall(temp_dir)\n",
        "\n",
        "os.listdir(temp_dir)"
      ],
      "execution_count": null,
      "outputs": [
        {
          "output_type": "stream",
          "name": "stdout",
          "text": [
            "Downloading file MINDsmall_dev.zip to /tmp/mind/https_mind201910small.blob.core.windows.net_release_MINDsmall_dev.zip...done, 30945572 bytes.\n"
          ]
        },
        {
          "output_type": "execute_result",
          "data": {
            "text/plain": [
              "['news.tsv',\n",
              " 'https_mind201910small.blob.core.windows.net_release_MINDsmall_dev.zip',\n",
              " 'relation_embedding.vec',\n",
              " 'entity_embedding.vec',\n",
              " 'behaviors.tsv']"
            ]
          },
          "metadata": {},
          "execution_count": 26
        }
      ]
    },
    {
      "cell_type": "code",
      "metadata": {
        "id": "fguSvU4UvZbm"
      },
      "source": [
        "# The behaviors.tsv file contains the impression logs and users' news click histories. \n",
        "# It has 5 columns divided by the tab symbol:\n",
        "# - Impression ID. The ID of an impression.\n",
        "# - User ID. The anonymous ID of a user.\n",
        "# - Time. The impression time with format \"MM/DD/YYYY HH:MM:SS AM/PM\".\n",
        "# - History. The news click history (ID list of clicked news) of this user before this impression.\n",
        "# - Impressions. List of news displayed in this impression and user's click behaviors on them (1 for click and 0 for non-click).\n",
        "\n",
        "behaviors_path = os.path.join(temp_dir, 'behaviors.tsv')\n",
        "behaviors = pd.read_table(\n",
        "    behaviors_path,\n",
        "    header=None,\n",
        "    names=['impression_id', 'user_id', 'time', 'history', 'impressions'])"
      ],
      "execution_count": null,
      "outputs": []
    },
    {
      "cell_type": "code",
      "metadata": {
        "colab": {
          "base_uri": "https://localhost:8080/",
          "height": 837
        },
        "id": "uSPCkBzuv1D7",
        "outputId": "a491b325-6c25-40d2-ecab-c838fde5a0ab"
      },
      "source": [
        "# The news.tsv file contains the detailed information of news articles involved in the behaviors.tsv file.\n",
        "# It has 7 columns, which are divided by the tab symbol:\n",
        "# - News ID\n",
        "# - Category\n",
        "# - Subcategory\n",
        "# - Title\n",
        "# - Abstract\n",
        "# - URL\n",
        "# - Title Entities (entities contained in the title of this news)\n",
        "# - Abstract Entities (entities contained in the abstract of this news)\n",
        "\n",
        "news_path = os.path.join(temp_dir, 'news.tsv')\n",
        "pd.read_table(news_path,\n",
        "              header=None,\n",
        "              names=[\n",
        "                  'id', 'category', 'subcategory', 'title', 'abstract', 'url',\n",
        "                  'title_entities', 'abstract_entities'\n",
        "              ])"
      ],
      "execution_count": null,
      "outputs": [
        {
          "output_type": "execute_result",
          "data": {
            "text/html": [
              "<div>\n",
              "<style scoped>\n",
              "    .dataframe tbody tr th:only-of-type {\n",
              "        vertical-align: middle;\n",
              "    }\n",
              "\n",
              "    .dataframe tbody tr th {\n",
              "        vertical-align: top;\n",
              "    }\n",
              "\n",
              "    .dataframe thead th {\n",
              "        text-align: right;\n",
              "    }\n",
              "</style>\n",
              "<table border=\"1\" class=\"dataframe\">\n",
              "  <thead>\n",
              "    <tr style=\"text-align: right;\">\n",
              "      <th></th>\n",
              "      <th>id</th>\n",
              "      <th>category</th>\n",
              "      <th>subcategory</th>\n",
              "      <th>title</th>\n",
              "      <th>abstract</th>\n",
              "      <th>url</th>\n",
              "      <th>title_entities</th>\n",
              "      <th>abstract_entities</th>\n",
              "    </tr>\n",
              "  </thead>\n",
              "  <tbody>\n",
              "    <tr>\n",
              "      <th>0</th>\n",
              "      <td>N55528</td>\n",
              "      <td>lifestyle</td>\n",
              "      <td>lifestyleroyals</td>\n",
              "      <td>The Brands Queen Elizabeth, Prince Charles, an...</td>\n",
              "      <td>Shop the notebooks, jackets, and more that the...</td>\n",
              "      <td>https://assets.msn.com/labs/mind/AAGH0ET.html</td>\n",
              "      <td>[{\"Label\": \"Prince Philip, Duke of Edinburgh\",...</td>\n",
              "      <td>[]</td>\n",
              "    </tr>\n",
              "    <tr>\n",
              "      <th>1</th>\n",
              "      <td>N18955</td>\n",
              "      <td>health</td>\n",
              "      <td>medical</td>\n",
              "      <td>Dispose of unwanted prescription drugs during ...</td>\n",
              "      <td>NaN</td>\n",
              "      <td>https://assets.msn.com/labs/mind/AAISxPN.html</td>\n",
              "      <td>[{\"Label\": \"Drug Enforcement Administration\", ...</td>\n",
              "      <td>[]</td>\n",
              "    </tr>\n",
              "    <tr>\n",
              "      <th>2</th>\n",
              "      <td>N61837</td>\n",
              "      <td>news</td>\n",
              "      <td>newsworld</td>\n",
              "      <td>The Cost of Trump's Aid Freeze in the Trenches...</td>\n",
              "      <td>Lt. Ivan Molchanets peeked over a parapet of s...</td>\n",
              "      <td>https://assets.msn.com/labs/mind/AAJgNsz.html</td>\n",
              "      <td>[]</td>\n",
              "      <td>[{\"Label\": \"Ukraine\", \"Type\": \"G\", \"WikidataId...</td>\n",
              "    </tr>\n",
              "    <tr>\n",
              "      <th>3</th>\n",
              "      <td>N53526</td>\n",
              "      <td>health</td>\n",
              "      <td>voices</td>\n",
              "      <td>I Was An NBA Wife. Here's How It Affected My M...</td>\n",
              "      <td>I felt like I was a fraud, and being an NBA wi...</td>\n",
              "      <td>https://assets.msn.com/labs/mind/AACk2N6.html</td>\n",
              "      <td>[]</td>\n",
              "      <td>[{\"Label\": \"National Basketball Association\", ...</td>\n",
              "    </tr>\n",
              "    <tr>\n",
              "      <th>4</th>\n",
              "      <td>N38324</td>\n",
              "      <td>health</td>\n",
              "      <td>medical</td>\n",
              "      <td>How to Get Rid of Skin Tags, According to a De...</td>\n",
              "      <td>They seem harmless, but there's a very good re...</td>\n",
              "      <td>https://assets.msn.com/labs/mind/AAAKEkt.html</td>\n",
              "      <td>[{\"Label\": \"Skin tag\", \"Type\": \"C\", \"WikidataI...</td>\n",
              "      <td>[{\"Label\": \"Skin tag\", \"Type\": \"C\", \"WikidataI...</td>\n",
              "    </tr>\n",
              "    <tr>\n",
              "      <th>...</th>\n",
              "      <td>...</td>\n",
              "      <td>...</td>\n",
              "      <td>...</td>\n",
              "      <td>...</td>\n",
              "      <td>...</td>\n",
              "      <td>...</td>\n",
              "      <td>...</td>\n",
              "      <td>...</td>\n",
              "    </tr>\n",
              "    <tr>\n",
              "      <th>42411</th>\n",
              "      <td>N63550</td>\n",
              "      <td>lifestyle</td>\n",
              "      <td>lifestyleroyals</td>\n",
              "      <td>Why Kate &amp; Meghan Were on Different Balconies ...</td>\n",
              "      <td>There's no scandal here. It's all about the or...</td>\n",
              "      <td>https://assets.msn.com/labs/mind/BBWyynu.html</td>\n",
              "      <td>[{\"Label\": \"Meghan, Duchess of Sussex\", \"Type\"...</td>\n",
              "      <td>[]</td>\n",
              "    </tr>\n",
              "    <tr>\n",
              "      <th>42412</th>\n",
              "      <td>N30345</td>\n",
              "      <td>entertainment</td>\n",
              "      <td>entertainment-celebrity</td>\n",
              "      <td>See the stars at the 2019 Baby2Baby gala</td>\n",
              "      <td>Stars like Chrissy Teigen and Kate Hudson supp...</td>\n",
              "      <td>https://assets.msn.com/labs/mind/BBWyz7N.html</td>\n",
              "      <td>[]</td>\n",
              "      <td>[{\"Label\": \"Kate Hudson\", \"Type\": \"P\", \"Wikida...</td>\n",
              "    </tr>\n",
              "    <tr>\n",
              "      <th>42413</th>\n",
              "      <td>N30135</td>\n",
              "      <td>news</td>\n",
              "      <td>newsgoodnews</td>\n",
              "      <td>Tennessee judge holds lawyer's baby as he swea...</td>\n",
              "      <td>Tennessee Court of Appeals Judge Richard Dinki...</td>\n",
              "      <td>https://assets.msn.com/labs/mind/BBWyzI8.html</td>\n",
              "      <td>[{\"Label\": \"Tennessee\", \"Type\": \"G\", \"Wikidata...</td>\n",
              "      <td>[{\"Label\": \"Tennessee Court of Appeals\", \"Type...</td>\n",
              "    </tr>\n",
              "    <tr>\n",
              "      <th>42414</th>\n",
              "      <td>N44276</td>\n",
              "      <td>autos</td>\n",
              "      <td>autossports</td>\n",
              "      <td>Best Sports Car Deals for October</td>\n",
              "      <td>NaN</td>\n",
              "      <td>https://assets.msn.com/labs/mind/BBy5rVe.html</td>\n",
              "      <td>[{\"Label\": \"Peugeot RCZ\", \"Type\": \"V\", \"Wikida...</td>\n",
              "      <td>[]</td>\n",
              "    </tr>\n",
              "    <tr>\n",
              "      <th>42415</th>\n",
              "      <td>N39563</td>\n",
              "      <td>sports</td>\n",
              "      <td>more_sports</td>\n",
              "      <td>Shall we dance: Sports stars shake their leg</td>\n",
              "      <td>NaN</td>\n",
              "      <td>https://assets.msn.com/labs/mind/BBzMpnG.html</td>\n",
              "      <td>[]</td>\n",
              "      <td>[]</td>\n",
              "    </tr>\n",
              "  </tbody>\n",
              "</table>\n",
              "<p>42416 rows × 8 columns</p>\n",
              "</div>"
            ],
            "text/plain": [
              "           id  ...                                  abstract_entities\n",
              "0      N55528  ...                                                 []\n",
              "1      N18955  ...                                                 []\n",
              "2      N61837  ...  [{\"Label\": \"Ukraine\", \"Type\": \"G\", \"WikidataId...\n",
              "3      N53526  ...  [{\"Label\": \"National Basketball Association\", ...\n",
              "4      N38324  ...  [{\"Label\": \"Skin tag\", \"Type\": \"C\", \"WikidataI...\n",
              "...       ...  ...                                                ...\n",
              "42411  N63550  ...                                                 []\n",
              "42412  N30345  ...  [{\"Label\": \"Kate Hudson\", \"Type\": \"P\", \"Wikida...\n",
              "42413  N30135  ...  [{\"Label\": \"Tennessee Court of Appeals\", \"Type...\n",
              "42414  N44276  ...                                                 []\n",
              "42415  N39563  ...                                                 []\n",
              "\n",
              "[42416 rows x 8 columns]"
            ]
          },
          "metadata": {},
          "execution_count": 7
        }
      ]
    },
    {
      "cell_type": "code",
      "metadata": {
        "colab": {
          "base_uri": "https://localhost:8080/",
          "height": 417
        },
        "id": "fkgyBCjQv9tk",
        "outputId": "4eecb097-4efe-416c-81b1-44c7c83e9117"
      },
      "source": [
        "# The entity_embedding.vec file contains the 100-dimensional embeddings\n",
        "# of the entities learned from the subgraph by TransE method.\n",
        "# The first column is the ID of entity, and the other columns are the embedding vector values.\n",
        "\n",
        "entity_embedding_path = os.path.join(temp_dir, 'entity_embedding.vec')\n",
        "entity_embedding = pd.read_table(entity_embedding_path, header=None)\n",
        "entity_embedding['vector'] = entity_embedding.iloc[:, 1:101].values.tolist()\n",
        "entity_embedding = entity_embedding[[0,\n",
        "                                     'vector']].rename(columns={0: \"entity\"})\n",
        "entity_embedding"
      ],
      "execution_count": null,
      "outputs": [
        {
          "output_type": "execute_result",
          "data": {
            "text/html": [
              "<div>\n",
              "<style scoped>\n",
              "    .dataframe tbody tr th:only-of-type {\n",
              "        vertical-align: middle;\n",
              "    }\n",
              "\n",
              "    .dataframe tbody tr th {\n",
              "        vertical-align: top;\n",
              "    }\n",
              "\n",
              "    .dataframe thead th {\n",
              "        text-align: right;\n",
              "    }\n",
              "</style>\n",
              "<table border=\"1\" class=\"dataframe\">\n",
              "  <thead>\n",
              "    <tr style=\"text-align: right;\">\n",
              "      <th></th>\n",
              "      <th>entity</th>\n",
              "      <th>vector</th>\n",
              "    </tr>\n",
              "  </thead>\n",
              "  <tbody>\n",
              "    <tr>\n",
              "      <th>0</th>\n",
              "      <td>Q34433</td>\n",
              "      <td>[0.017808, -0.07325599999999999, 0.102521, -0....</td>\n",
              "    </tr>\n",
              "    <tr>\n",
              "      <th>1</th>\n",
              "      <td>Q41</td>\n",
              "      <td>[-0.063388, -0.181451, 0.057501, -0.091254, -0...</td>\n",
              "    </tr>\n",
              "    <tr>\n",
              "      <th>2</th>\n",
              "      <td>Q56037</td>\n",
              "      <td>[0.02155, -0.044888, -0.027872000000000004, -0...</td>\n",
              "    </tr>\n",
              "    <tr>\n",
              "      <th>3</th>\n",
              "      <td>Q1860</td>\n",
              "      <td>[0.060958000000000005, 0.06993400000000001, 0....</td>\n",
              "    </tr>\n",
              "    <tr>\n",
              "      <th>4</th>\n",
              "      <td>Q39631</td>\n",
              "      <td>[-0.093106, -0.052002, 0.020556, -0.020801, 0....</td>\n",
              "    </tr>\n",
              "    <tr>\n",
              "      <th>...</th>\n",
              "      <td>...</td>\n",
              "      <td>...</td>\n",
              "    </tr>\n",
              "    <tr>\n",
              "      <th>22888</th>\n",
              "      <td>Q278846</td>\n",
              "      <td>[0.042413, 0.021957, 0.07241399999999999, -0.0...</td>\n",
              "    </tr>\n",
              "    <tr>\n",
              "      <th>22889</th>\n",
              "      <td>Q54621949</td>\n",
              "      <td>[-0.018299, -0.048378, -0.021644999999999998, ...</td>\n",
              "    </tr>\n",
              "    <tr>\n",
              "      <th>22890</th>\n",
              "      <td>Q42225228</td>\n",
              "      <td>[-0.051346, -0.028947000000000004, -0.07587, 0...</td>\n",
              "    </tr>\n",
              "    <tr>\n",
              "      <th>22891</th>\n",
              "      <td>Q54862508</td>\n",
              "      <td>[-0.052323, -0.078029, -0.060925, -0.052536, 0...</td>\n",
              "    </tr>\n",
              "    <tr>\n",
              "      <th>22892</th>\n",
              "      <td>Q42301562</td>\n",
              "      <td>[-0.00519, -0.047871, 0.009753, -0.0215, -4.9e...</td>\n",
              "    </tr>\n",
              "  </tbody>\n",
              "</table>\n",
              "<p>22893 rows × 2 columns</p>\n",
              "</div>"
            ],
            "text/plain": [
              "          entity                                             vector\n",
              "0         Q34433  [0.017808, -0.07325599999999999, 0.102521, -0....\n",
              "1            Q41  [-0.063388, -0.181451, 0.057501, -0.091254, -0...\n",
              "2         Q56037  [0.02155, -0.044888, -0.027872000000000004, -0...\n",
              "3          Q1860  [0.060958000000000005, 0.06993400000000001, 0....\n",
              "4         Q39631  [-0.093106, -0.052002, 0.020556, -0.020801, 0....\n",
              "...          ...                                                ...\n",
              "22888    Q278846  [0.042413, 0.021957, 0.07241399999999999, -0.0...\n",
              "22889  Q54621949  [-0.018299, -0.048378, -0.021644999999999998, ...\n",
              "22890  Q42225228  [-0.051346, -0.028947000000000004, -0.07587, 0...\n",
              "22891  Q54862508  [-0.052323, -0.078029, -0.060925, -0.052536, 0...\n",
              "22892  Q42301562  [-0.00519, -0.047871, 0.009753, -0.0215, -4.9e...\n",
              "\n",
              "[22893 rows x 2 columns]"
            ]
          },
          "metadata": {},
          "execution_count": 8
        }
      ]
    },
    {
      "cell_type": "code",
      "metadata": {
        "colab": {
          "base_uri": "https://localhost:8080/",
          "height": 417
        },
        "id": "3rl-aqklwLmK",
        "outputId": "8342d167-ba16-4f73-b9ed-5f1a5fa14c4e"
      },
      "source": [
        "# The relation_embedding.vec file contains the 100-dimensional embeddings\n",
        "# of the relations learned from the subgraph by TransE method.\n",
        "# The first column is the ID of relation, and the other columns are the embedding vector values.\n",
        "\n",
        "relation_embedding_path = os.path.join(temp_dir, 'relation_embedding.vec')\n",
        "relation_embedding = pd.read_table(relation_embedding_path, header=None)\n",
        "relation_embedding['vector'] = relation_embedding.iloc[:,\n",
        "                                                       1:101].values.tolist()\n",
        "relation_embedding = relation_embedding[[0, 'vector'\n",
        "                                         ]].rename(columns={0: \"relation\"})\n",
        "relation_embedding"
      ],
      "execution_count": null,
      "outputs": [
        {
          "output_type": "execute_result",
          "data": {
            "text/html": [
              "<div>\n",
              "<style scoped>\n",
              "    .dataframe tbody tr th:only-of-type {\n",
              "        vertical-align: middle;\n",
              "    }\n",
              "\n",
              "    .dataframe tbody tr th {\n",
              "        vertical-align: top;\n",
              "    }\n",
              "\n",
              "    .dataframe thead th {\n",
              "        text-align: right;\n",
              "    }\n",
              "</style>\n",
              "<table border=\"1\" class=\"dataframe\">\n",
              "  <thead>\n",
              "    <tr style=\"text-align: right;\">\n",
              "      <th></th>\n",
              "      <th>relation</th>\n",
              "      <th>vector</th>\n",
              "    </tr>\n",
              "  </thead>\n",
              "  <tbody>\n",
              "    <tr>\n",
              "      <th>0</th>\n",
              "      <td>P31</td>\n",
              "      <td>[-0.07346699999999999, -0.132227, 0.034173, -0...</td>\n",
              "    </tr>\n",
              "    <tr>\n",
              "      <th>1</th>\n",
              "      <td>P21</td>\n",
              "      <td>[-0.078436, 0.108589, -0.049429, -0.131355, 0....</td>\n",
              "    </tr>\n",
              "    <tr>\n",
              "      <th>2</th>\n",
              "      <td>P106</td>\n",
              "      <td>[-0.052137, 0.052444000000000005, -0.019886, -...</td>\n",
              "    </tr>\n",
              "    <tr>\n",
              "      <th>3</th>\n",
              "      <td>P735</td>\n",
              "      <td>[-0.051398, 0.056219000000000005, 0.0680289999...</td>\n",
              "    </tr>\n",
              "    <tr>\n",
              "      <th>4</th>\n",
              "      <td>P108</td>\n",
              "      <td>[0.09123099999999999, 0.022525999999999997, 0....</td>\n",
              "    </tr>\n",
              "    <tr>\n",
              "      <th>...</th>\n",
              "      <td>...</td>\n",
              "      <td>...</td>\n",
              "    </tr>\n",
              "    <tr>\n",
              "      <th>1086</th>\n",
              "      <td>P1897</td>\n",
              "      <td>[-0.019021, 0.001183, -0.009602, -0.040833, -0...</td>\n",
              "    </tr>\n",
              "    <tr>\n",
              "      <th>1087</th>\n",
              "      <td>P3776</td>\n",
              "      <td>[-0.018365, 0.028526, -0.025934, 0.032296, -0....</td>\n",
              "    </tr>\n",
              "    <tr>\n",
              "      <th>1088</th>\n",
              "      <td>P1194</td>\n",
              "      <td>[-0.026819, 0.0032310000000000004, -0.011298, ...</td>\n",
              "    </tr>\n",
              "    <tr>\n",
              "      <th>1089</th>\n",
              "      <td>P2502</td>\n",
              "      <td>[0.003554, -0.041121, -0.010559, -0.037862, -0...</td>\n",
              "    </tr>\n",
              "    <tr>\n",
              "      <th>1090</th>\n",
              "      <td>P6977</td>\n",
              "      <td>[-0.023617, -0.021648, 0.009369, -0.021757, 0....</td>\n",
              "    </tr>\n",
              "  </tbody>\n",
              "</table>\n",
              "<p>1091 rows × 2 columns</p>\n",
              "</div>"
            ],
            "text/plain": [
              "     relation                                             vector\n",
              "0         P31  [-0.07346699999999999, -0.132227, 0.034173, -0...\n",
              "1         P21  [-0.078436, 0.108589, -0.049429, -0.131355, 0....\n",
              "2        P106  [-0.052137, 0.052444000000000005, -0.019886, -...\n",
              "3        P735  [-0.051398, 0.056219000000000005, 0.0680289999...\n",
              "4        P108  [0.09123099999999999, 0.022525999999999997, 0....\n",
              "...       ...                                                ...\n",
              "1086    P1897  [-0.019021, 0.001183, -0.009602, -0.040833, -0...\n",
              "1087    P3776  [-0.018365, 0.028526, -0.025934, 0.032296, -0....\n",
              "1088    P1194  [-0.026819, 0.0032310000000000004, -0.011298, ...\n",
              "1089    P2502  [0.003554, -0.041121, -0.010559, -0.037862, -0...\n",
              "1090    P6977  [-0.023617, -0.021648, 0.009369, -0.021757, 0....\n",
              "\n",
              "[1091 rows x 2 columns]"
            ]
          },
          "metadata": {},
          "execution_count": 9
        }
      ]
    },
    {
      "cell_type": "code",
      "metadata": {
        "id": "NqQGhyN8-ugR"
      },
      "source": [
        "import matplotlib.pyplot as plt"
      ],
      "execution_count": null,
      "outputs": []
    },
    {
      "cell_type": "markdown",
      "metadata": {
        "id": "jVtAYagsybyy"
      },
      "source": [
        "# **Read data from google drive**\n"
      ]
    },
    {
      "cell_type": "code",
      "metadata": {
        "colab": {
          "base_uri": "https://localhost:8080/"
        },
        "id": "wD2rUsp5C8hf",
        "outputId": "386eff7e-f894-4fe1-bf85-b94ba7b6b317"
      },
      "source": [
        "#link google drive\n",
        "from google.colab import drive\n",
        "drive.mount('/content/drive')"
      ],
      "execution_count": null,
      "outputs": [
        {
          "output_type": "stream",
          "name": "stdout",
          "text": [
            "Mounted at /content/drive\n"
          ]
        }
      ]
    },
    {
      "cell_type": "code",
      "metadata": {
        "colab": {
          "base_uri": "https://localhost:8080/"
        },
        "id": "Cyb1CYg5DGuL",
        "outputId": "0320ff4b-84d6-4aca-d260-d0d984100181"
      },
      "source": [
        "#enter the folder\n",
        "!ls\n",
        "import os\n",
        "os.chdir('/content/drive/My Drive/graduation-project')\n",
        "!ls"
      ],
      "execution_count": null,
      "outputs": [
        {
          "output_type": "stream",
          "name": "stdout",
          "text": [
            "drive  result.png  sample_data\n",
            "'access data.ipynb'\n",
            "'collaborative filtering.ipynb'\n",
            "'data operator'\n",
            "'DKN : Deep Knowledge-Aware Network for News Recommendation.ipynb'\n",
            "' LSTUR: Neural News Recommendation with Long- and Short-term User Representations.ipynb'\n",
            " MINDsmall_train\n",
            "'NAML: Neural News Recommendation with Attentive Multi-View Learning.ipynb'\n",
            " NCF.ipynb\n",
            "'NPA: Neural News Recommendation with Personalized Attention.ipynb'\n",
            "'NRMS: Neural News Recommendation with Multi-Head Self-Attention.ipynb'\n",
            " recommenders-main\n",
            " SLi-REC.ipynb\n",
            " sli_rec-master\n",
            " Untitled0.ipynb\n"
          ]
        }
      ]
    },
    {
      "cell_type": "markdown",
      "source": [
        "# Generate the dataset for SLi-Rec model"
      ],
      "metadata": {
        "id": "7gX7YMdcLSk2"
      }
    },
    {
      "cell_type": "code",
      "metadata": {
        "id": "3OZeZQzRFHT3"
      },
      "source": [
        "import pandas as pd\n"
      ],
      "execution_count": null,
      "outputs": []
    },
    {
      "cell_type": "code",
      "metadata": {
        "id": "fMup6anFNbFn"
      },
      "source": [
        "test_data = pd.read_table(\"data1/test_data\", sep = '\\t', names=None, index_col=None)"
      ],
      "execution_count": null,
      "outputs": []
    },
    {
      "cell_type": "code",
      "metadata": {
        "colab": {
          "base_uri": "https://localhost:8080/",
          "height": 203
        },
        "id": "llejY2LcOgu0",
        "outputId": "26acabe6-2a5b-4df6-d6a4-f66fd305fab2"
      },
      "source": [
        "test_data.head()"
      ],
      "execution_count": null,
      "outputs": [
        {
          "output_type": "execute_result",
          "data": {
            "text/html": [
              "<div>\n",
              "<style scoped>\n",
              "    .dataframe tbody tr th:only-of-type {\n",
              "        vertical-align: middle;\n",
              "    }\n",
              "\n",
              "    .dataframe tbody tr th {\n",
              "        vertical-align: top;\n",
              "    }\n",
              "\n",
              "    .dataframe thead th {\n",
              "        text-align: right;\n",
              "    }\n",
              "</style>\n",
              "<table border=\"1\" class=\"dataframe\">\n",
              "  <thead>\n",
              "    <tr style=\"text-align: right;\">\n",
              "      <th></th>\n",
              "      <th>1</th>\n",
              "      <th>A3R27T4HADWFFJ</th>\n",
              "      <th>B001PR0Y4O</th>\n",
              "      <th>Movies</th>\n",
              "      <th>1391040000</th>\n",
              "      <th>6302595916,B000I6BJ56</th>\n",
              "      <th>Movies,Movies</th>\n",
              "      <th>1138752000,1387584000</th>\n",
              "    </tr>\n",
              "  </thead>\n",
              "  <tbody>\n",
              "    <tr>\n",
              "      <th>0</th>\n",
              "      <td>0</td>\n",
              "      <td>A3R27T4HADWFFJ</td>\n",
              "      <td>B000CPH9XY</td>\n",
              "      <td>Arena Rock</td>\n",
              "      <td>1391040000</td>\n",
              "      <td>6302595916,B000I6BJ56</td>\n",
              "      <td>Movies,Movies</td>\n",
              "      <td>1138752000,1387584000</td>\n",
              "    </tr>\n",
              "    <tr>\n",
              "      <th>1</th>\n",
              "      <td>0</td>\n",
              "      <td>A3R27T4HADWFFJ</td>\n",
              "      <td>6303828035</td>\n",
              "      <td>Movies</td>\n",
              "      <td>1391040000</td>\n",
              "      <td>6302595916,B000I6BJ56</td>\n",
              "      <td>Movies,Movies</td>\n",
              "      <td>1138752000,1387584000</td>\n",
              "    </tr>\n",
              "    <tr>\n",
              "      <th>2</th>\n",
              "      <td>0</td>\n",
              "      <td>A3R27T4HADWFFJ</td>\n",
              "      <td>1559409002</td>\n",
              "      <td>Movies</td>\n",
              "      <td>1391040000</td>\n",
              "      <td>6302595916,B000I6BJ56</td>\n",
              "      <td>Movies,Movies</td>\n",
              "      <td>1138752000,1387584000</td>\n",
              "    </tr>\n",
              "    <tr>\n",
              "      <th>3</th>\n",
              "      <td>0</td>\n",
              "      <td>A3R27T4HADWFFJ</td>\n",
              "      <td>B001NP8PQM</td>\n",
              "      <td>Rock</td>\n",
              "      <td>1391040000</td>\n",
              "      <td>6302595916,B000I6BJ56</td>\n",
              "      <td>Movies,Movies</td>\n",
              "      <td>1138752000,1387584000</td>\n",
              "    </tr>\n",
              "    <tr>\n",
              "      <th>4</th>\n",
              "      <td>0</td>\n",
              "      <td>A3R27T4HADWFFJ</td>\n",
              "      <td>B000LQN1LI</td>\n",
              "      <td>TV</td>\n",
              "      <td>1391040000</td>\n",
              "      <td>6302595916,B000I6BJ56</td>\n",
              "      <td>Movies,Movies</td>\n",
              "      <td>1138752000,1387584000</td>\n",
              "    </tr>\n",
              "  </tbody>\n",
              "</table>\n",
              "</div>"
            ],
            "text/plain": [
              "   1  A3R27T4HADWFFJ  ...  Movies,Movies  1138752000,1387584000\n",
              "0  0  A3R27T4HADWFFJ  ...  Movies,Movies  1138752000,1387584000\n",
              "1  0  A3R27T4HADWFFJ  ...  Movies,Movies  1138752000,1387584000\n",
              "2  0  A3R27T4HADWFFJ  ...  Movies,Movies  1138752000,1387584000\n",
              "3  0  A3R27T4HADWFFJ  ...  Movies,Movies  1138752000,1387584000\n",
              "4  0  A3R27T4HADWFFJ  ...  Movies,Movies  1138752000,1387584000\n",
              "\n",
              "[5 rows x 8 columns]"
            ]
          },
          "metadata": {},
          "execution_count": 27
        }
      ]
    },
    {
      "cell_type": "code",
      "metadata": {
        "id": "2me4TtJxNdk3"
      },
      "source": [
        "test_copy = test_data[:156965]"
      ],
      "execution_count": null,
      "outputs": []
    },
    {
      "cell_type": "code",
      "metadata": {
        "colab": {
          "base_uri": "https://localhost:8080/",
          "height": 203
        },
        "id": "m3HjCPfwNgJ2",
        "outputId": "fa417333-04ef-495d-b845-f394e528c27c"
      },
      "source": [
        "test_copy.head()"
      ],
      "execution_count": null,
      "outputs": [
        {
          "output_type": "execute_result",
          "data": {
            "text/html": [
              "<div>\n",
              "<style scoped>\n",
              "    .dataframe tbody tr th:only-of-type {\n",
              "        vertical-align: middle;\n",
              "    }\n",
              "\n",
              "    .dataframe tbody tr th {\n",
              "        vertical-align: top;\n",
              "    }\n",
              "\n",
              "    .dataframe thead th {\n",
              "        text-align: right;\n",
              "    }\n",
              "</style>\n",
              "<table border=\"1\" class=\"dataframe\">\n",
              "  <thead>\n",
              "    <tr style=\"text-align: right;\">\n",
              "      <th></th>\n",
              "      <th>1</th>\n",
              "      <th>A3R27T4HADWFFJ</th>\n",
              "      <th>B001PR0Y4O</th>\n",
              "      <th>Movies</th>\n",
              "      <th>1391040000</th>\n",
              "      <th>6302595916,B000I6BJ56</th>\n",
              "      <th>Movies,Movies</th>\n",
              "      <th>1138752000,1387584000</th>\n",
              "    </tr>\n",
              "  </thead>\n",
              "  <tbody>\n",
              "    <tr>\n",
              "      <th>0</th>\n",
              "      <td>0</td>\n",
              "      <td>A3R27T4HADWFFJ</td>\n",
              "      <td>B000CPH9XY</td>\n",
              "      <td>Arena Rock</td>\n",
              "      <td>1391040000</td>\n",
              "      <td>6302595916,B000I6BJ56</td>\n",
              "      <td>Movies,Movies</td>\n",
              "      <td>1138752000,1387584000</td>\n",
              "    </tr>\n",
              "    <tr>\n",
              "      <th>1</th>\n",
              "      <td>0</td>\n",
              "      <td>A3R27T4HADWFFJ</td>\n",
              "      <td>6303828035</td>\n",
              "      <td>Movies</td>\n",
              "      <td>1391040000</td>\n",
              "      <td>6302595916,B000I6BJ56</td>\n",
              "      <td>Movies,Movies</td>\n",
              "      <td>1138752000,1387584000</td>\n",
              "    </tr>\n",
              "    <tr>\n",
              "      <th>2</th>\n",
              "      <td>0</td>\n",
              "      <td>A3R27T4HADWFFJ</td>\n",
              "      <td>1559409002</td>\n",
              "      <td>Movies</td>\n",
              "      <td>1391040000</td>\n",
              "      <td>6302595916,B000I6BJ56</td>\n",
              "      <td>Movies,Movies</td>\n",
              "      <td>1138752000,1387584000</td>\n",
              "    </tr>\n",
              "    <tr>\n",
              "      <th>3</th>\n",
              "      <td>0</td>\n",
              "      <td>A3R27T4HADWFFJ</td>\n",
              "      <td>B001NP8PQM</td>\n",
              "      <td>Rock</td>\n",
              "      <td>1391040000</td>\n",
              "      <td>6302595916,B000I6BJ56</td>\n",
              "      <td>Movies,Movies</td>\n",
              "      <td>1138752000,1387584000</td>\n",
              "    </tr>\n",
              "    <tr>\n",
              "      <th>4</th>\n",
              "      <td>0</td>\n",
              "      <td>A3R27T4HADWFFJ</td>\n",
              "      <td>B000LQN1LI</td>\n",
              "      <td>TV</td>\n",
              "      <td>1391040000</td>\n",
              "      <td>6302595916,B000I6BJ56</td>\n",
              "      <td>Movies,Movies</td>\n",
              "      <td>1138752000,1387584000</td>\n",
              "    </tr>\n",
              "  </tbody>\n",
              "</table>\n",
              "</div>"
            ],
            "text/plain": [
              "   1  A3R27T4HADWFFJ  ...  Movies,Movies  1138752000,1387584000\n",
              "0  0  A3R27T4HADWFFJ  ...  Movies,Movies  1138752000,1387584000\n",
              "1  0  A3R27T4HADWFFJ  ...  Movies,Movies  1138752000,1387584000\n",
              "2  0  A3R27T4HADWFFJ  ...  Movies,Movies  1138752000,1387584000\n",
              "3  0  A3R27T4HADWFFJ  ...  Movies,Movies  1138752000,1387584000\n",
              "4  0  A3R27T4HADWFFJ  ...  Movies,Movies  1138752000,1387584000\n",
              "\n",
              "[5 rows x 8 columns]"
            ]
          },
          "metadata": {},
          "execution_count": 29
        }
      ]
    },
    {
      "cell_type": "code",
      "metadata": {
        "id": "VxsiRMwiOtK2"
      },
      "source": [
        "test_copy.to_csv(\"data1/test_copy\", header= 0, index = 0, sep = '\\t')"
      ],
      "execution_count": null,
      "outputs": []
    },
    {
      "cell_type": "code",
      "metadata": {
        "colab": {
          "base_uri": "https://localhost:8080/",
          "height": 203
        },
        "id": "HRCDjJJqE8ga",
        "outputId": "ed97b73e-bb54-4651-aa3d-67dde9fdbb5f"
      },
      "source": [
        "test_data = pd.read_table(\"data1/test_data\", names = ['label', 'user_id', 'item_id', 'category_id', 'timestamp', 'history_item_ids', 'history_category_ids', 'history_timestamp'])\n",
        "test_data.head()"
      ],
      "execution_count": null,
      "outputs": [
        {
          "output_type": "execute_result",
          "data": {
            "text/html": [
              "<div>\n",
              "<style scoped>\n",
              "    .dataframe tbody tr th:only-of-type {\n",
              "        vertical-align: middle;\n",
              "    }\n",
              "\n",
              "    .dataframe tbody tr th {\n",
              "        vertical-align: top;\n",
              "    }\n",
              "\n",
              "    .dataframe thead th {\n",
              "        text-align: right;\n",
              "    }\n",
              "</style>\n",
              "<table border=\"1\" class=\"dataframe\">\n",
              "  <thead>\n",
              "    <tr style=\"text-align: right;\">\n",
              "      <th></th>\n",
              "      <th>label</th>\n",
              "      <th>user_id</th>\n",
              "      <th>item_id</th>\n",
              "      <th>category_id</th>\n",
              "      <th>timestamp</th>\n",
              "      <th>history_item_ids</th>\n",
              "      <th>history_category_ids</th>\n",
              "      <th>history_timestamp</th>\n",
              "    </tr>\n",
              "  </thead>\n",
              "  <tbody>\n",
              "    <tr>\n",
              "      <th>0</th>\n",
              "      <td>1</td>\n",
              "      <td>A3R27T4HADWFFJ</td>\n",
              "      <td>B001PR0Y4O</td>\n",
              "      <td>Movies</td>\n",
              "      <td>1391040000</td>\n",
              "      <td>6302595916,B000I6BJ56</td>\n",
              "      <td>Movies,Movies</td>\n",
              "      <td>1138752000,1387584000</td>\n",
              "    </tr>\n",
              "    <tr>\n",
              "      <th>1</th>\n",
              "      <td>0</td>\n",
              "      <td>A3R27T4HADWFFJ</td>\n",
              "      <td>B000CPH9XY</td>\n",
              "      <td>Arena Rock</td>\n",
              "      <td>1391040000</td>\n",
              "      <td>6302595916,B000I6BJ56</td>\n",
              "      <td>Movies,Movies</td>\n",
              "      <td>1138752000,1387584000</td>\n",
              "    </tr>\n",
              "    <tr>\n",
              "      <th>2</th>\n",
              "      <td>0</td>\n",
              "      <td>A3R27T4HADWFFJ</td>\n",
              "      <td>6303828035</td>\n",
              "      <td>Movies</td>\n",
              "      <td>1391040000</td>\n",
              "      <td>6302595916,B000I6BJ56</td>\n",
              "      <td>Movies,Movies</td>\n",
              "      <td>1138752000,1387584000</td>\n",
              "    </tr>\n",
              "    <tr>\n",
              "      <th>3</th>\n",
              "      <td>0</td>\n",
              "      <td>A3R27T4HADWFFJ</td>\n",
              "      <td>1559409002</td>\n",
              "      <td>Movies</td>\n",
              "      <td>1391040000</td>\n",
              "      <td>6302595916,B000I6BJ56</td>\n",
              "      <td>Movies,Movies</td>\n",
              "      <td>1138752000,1387584000</td>\n",
              "    </tr>\n",
              "    <tr>\n",
              "      <th>4</th>\n",
              "      <td>0</td>\n",
              "      <td>A3R27T4HADWFFJ</td>\n",
              "      <td>B001NP8PQM</td>\n",
              "      <td>Rock</td>\n",
              "      <td>1391040000</td>\n",
              "      <td>6302595916,B000I6BJ56</td>\n",
              "      <td>Movies,Movies</td>\n",
              "      <td>1138752000,1387584000</td>\n",
              "    </tr>\n",
              "  </tbody>\n",
              "</table>\n",
              "</div>"
            ],
            "text/plain": [
              "   label         user_id  ... history_category_ids      history_timestamp\n",
              "0      1  A3R27T4HADWFFJ  ...        Movies,Movies  1138752000,1387584000\n",
              "1      0  A3R27T4HADWFFJ  ...        Movies,Movies  1138752000,1387584000\n",
              "2      0  A3R27T4HADWFFJ  ...        Movies,Movies  1138752000,1387584000\n",
              "3      0  A3R27T4HADWFFJ  ...        Movies,Movies  1138752000,1387584000\n",
              "4      0  A3R27T4HADWFFJ  ...        Movies,Movies  1138752000,1387584000\n",
              "\n",
              "[5 rows x 8 columns]"
            ]
          },
          "metadata": {},
          "execution_count": 30
        }
      ]
    },
    {
      "cell_type": "code",
      "metadata": {
        "id": "52aLFk4oLoBg"
      },
      "source": [
        "test_copy = test_data[:156965]"
      ],
      "execution_count": null,
      "outputs": []
    },
    {
      "cell_type": "code",
      "metadata": {
        "id": "CXZnq2FwMW4u"
      },
      "source": [
        "test_copy.to_csv(\"data1/test_copy\")"
      ],
      "execution_count": null,
      "outputs": []
    },
    {
      "cell_type": "code",
      "metadata": {
        "colab": {
          "base_uri": "https://localhost:8080/",
          "height": 258
        },
        "id": "sjD-LQ5zFRXD",
        "outputId": "d5905de1-428d-4a38-a7a3-755979ef14d3"
      },
      "source": [
        "train_data = pd.read_table(\"data1/train_data.csv\", names = ['label', 'user_id', 'item_id', 'category_id', 'timestamp', 'history_item_ids', 'history_category_ids', 'history_timestamp'])\n",
        "train_data.head()"
      ],
      "execution_count": null,
      "outputs": [
        {
          "output_type": "stream",
          "name": "stderr",
          "text": [
            "/usr/local/lib/python3.7/dist-packages/IPython/core/interactiveshell.py:2822: DtypeWarning: Columns (2,3,6) have mixed types.Specify dtype option on import or set low_memory=False.\n",
            "  if self.run_code(code, result):\n"
          ]
        },
        {
          "output_type": "execute_result",
          "data": {
            "text/html": [
              "<div>\n",
              "<style scoped>\n",
              "    .dataframe tbody tr th:only-of-type {\n",
              "        vertical-align: middle;\n",
              "    }\n",
              "\n",
              "    .dataframe tbody tr th {\n",
              "        vertical-align: top;\n",
              "    }\n",
              "\n",
              "    .dataframe thead th {\n",
              "        text-align: right;\n",
              "    }\n",
              "</style>\n",
              "<table border=\"1\" class=\"dataframe\">\n",
              "  <thead>\n",
              "    <tr style=\"text-align: right;\">\n",
              "      <th></th>\n",
              "      <th>label</th>\n",
              "      <th>user_id</th>\n",
              "      <th>item_id</th>\n",
              "      <th>category_id</th>\n",
              "      <th>timestamp</th>\n",
              "      <th>history_item_ids</th>\n",
              "      <th>history_category_ids</th>\n",
              "      <th>history_timestamp</th>\n",
              "    </tr>\n",
              "  </thead>\n",
              "  <tbody>\n",
              "    <tr>\n",
              "      <th>0</th>\n",
              "      <td>1</td>\n",
              "      <td>U13740</td>\n",
              "      <td>N55528</td>\n",
              "      <td>lifestyle</td>\n",
              "      <td>1622870079</td>\n",
              "      <td>N55189 N42782 N34694 N45794 N18445 N63302 N104...</td>\n",
              "      <td>lifestyleroyals</td>\n",
              "      <td>1622870079</td>\n",
              "    </tr>\n",
              "    <tr>\n",
              "      <th>1</th>\n",
              "      <td>2</td>\n",
              "      <td>U91836</td>\n",
              "      <td>N19639</td>\n",
              "      <td>health</td>\n",
              "      <td>1617223405</td>\n",
              "      <td>N31739 N6072 N63045 N23979 N35656 N43353 N8129...</td>\n",
              "      <td>weightloss</td>\n",
              "      <td>1617223405</td>\n",
              "    </tr>\n",
              "    <tr>\n",
              "      <th>2</th>\n",
              "      <td>3</td>\n",
              "      <td>U73700</td>\n",
              "      <td>N61837</td>\n",
              "      <td>news</td>\n",
              "      <td>1628756532</td>\n",
              "      <td>N10732 N25792 N7563 N21087 N41087 N5445 N60384...</td>\n",
              "      <td>newsworld</td>\n",
              "      <td>1628756532</td>\n",
              "    </tr>\n",
              "    <tr>\n",
              "      <th>3</th>\n",
              "      <td>4</td>\n",
              "      <td>U34670</td>\n",
              "      <td>N53526</td>\n",
              "      <td>health</td>\n",
              "      <td>1621566684</td>\n",
              "      <td>N45729 N2203 N871 N53880 N41375 N43142 N33013 ...</td>\n",
              "      <td>voices</td>\n",
              "      <td>1621566684</td>\n",
              "    </tr>\n",
              "    <tr>\n",
              "      <th>4</th>\n",
              "      <td>5</td>\n",
              "      <td>U8125</td>\n",
              "      <td>N38324</td>\n",
              "      <td>health</td>\n",
              "      <td>1613186155</td>\n",
              "      <td>N10078 N56514 N14904 N33740</td>\n",
              "      <td>medical</td>\n",
              "      <td>1613186155</td>\n",
              "    </tr>\n",
              "  </tbody>\n",
              "</table>\n",
              "</div>"
            ],
            "text/plain": [
              "   label user_id  ... history_category_ids history_timestamp\n",
              "0      1  U13740  ...      lifestyleroyals        1622870079\n",
              "1      2  U91836  ...           weightloss        1617223405\n",
              "2      3  U73700  ...            newsworld        1628756532\n",
              "3      4  U34670  ...               voices        1621566684\n",
              "4      5   U8125  ...              medical        1613186155\n",
              "\n",
              "[5 rows x 8 columns]"
            ]
          },
          "metadata": {},
          "execution_count": 8
        }
      ]
    },
    {
      "cell_type": "code",
      "metadata": {
        "colab": {
          "base_uri": "https://localhost:8080/"
        },
        "id": "I0MNzbzXF51A",
        "outputId": "47acca5e-3eef-4704-e59e-14f2afd105b1"
      },
      "source": [
        "train_data.count"
      ],
      "execution_count": null,
      "outputs": [
        {
          "output_type": "execute_result",
          "data": {
            "text/plain": [
              "<bound method DataFrame.count of          label user_id  ... history_category_ids history_timestamp\n",
              "0            1  U13740  ...      lifestyleroyals        1622870079\n",
              "1            2  U91836  ...           weightloss        1617223405\n",
              "2            3  U73700  ...            newsworld        1628756532\n",
              "3            4  U34670  ...               voices        1621566684\n",
              "4            5   U8125  ...              medical        1613186155\n",
              "...        ...     ...  ...                  ...               ...\n",
              "156960  156961  U21593  ...                  NaN        1632931726\n",
              "156961  156962  U10123  ...                  NaN        1612985391\n",
              "156962  156963  U75630  ...                  NaN        1620455229\n",
              "156963  156964  U44625  ...                  NaN        1613477904\n",
              "156964  156965  U64800  ...                  NaN        1639272965\n",
              "\n",
              "[156965 rows x 8 columns]>"
            ]
          },
          "metadata": {},
          "execution_count": 14
        }
      ]
    },
    {
      "cell_type": "code",
      "metadata": {
        "colab": {
          "base_uri": "https://localhost:8080/"
        },
        "id": "tgATQ0ldqIWX",
        "outputId": "42424b0a-b6de-460b-a611-5849faeec691"
      },
      "source": [
        "import pandas as pd\n",
        "\n",
        "test_data = pd.read_csv(\"data1/test_data\", sep = '\\t')[:156965]\n",
        "test_data.count"
      ],
      "execution_count": null,
      "outputs": [
        {
          "output_type": "execute_result",
          "data": {
            "text/plain": [
              "<bound method DataFrame.count of         1  ...                              1138752000,1387584000\n",
              "0       0  ...                              1138752000,1387584000\n",
              "1       0  ...                              1138752000,1387584000\n",
              "2       0  ...                              1138752000,1387584000\n",
              "3       0  ...                              1138752000,1387584000\n",
              "4       0  ...                              1138752000,1387584000\n",
              "...    ..  ...                                                ...\n",
              "156960  0  ...  1095638400,1216598400,1305244800,1331856000,14...\n",
              "156961  0  ...  1095638400,1216598400,1305244800,1331856000,14...\n",
              "156962  0  ...  1095638400,1216598400,1305244800,1331856000,14...\n",
              "156963  0  ...  1095638400,1216598400,1305244800,1331856000,14...\n",
              "156964  0  ...  1095638400,1216598400,1305244800,1331856000,14...\n",
              "\n",
              "[156965 rows x 8 columns]>"
            ]
          },
          "metadata": {},
          "execution_count": 44
        }
      ]
    },
    {
      "cell_type": "code",
      "metadata": {
        "colab": {
          "base_uri": "https://localhost:8080/",
          "height": 203
        },
        "id": "JLKd4NWC0sBu",
        "outputId": "c36bd349-062a-4c1a-aa21-1de3944fca32"
      },
      "source": [
        "behaviors = pd.read_csv(\"data1/behaviors.tsv\", sep = '\\t')\n",
        "behaviors.head()"
      ],
      "execution_count": null,
      "outputs": [
        {
          "output_type": "execute_result",
          "data": {
            "text/html": [
              "<div>\n",
              "<style scoped>\n",
              "    .dataframe tbody tr th:only-of-type {\n",
              "        vertical-align: middle;\n",
              "    }\n",
              "\n",
              "    .dataframe tbody tr th {\n",
              "        vertical-align: top;\n",
              "    }\n",
              "\n",
              "    .dataframe thead th {\n",
              "        text-align: right;\n",
              "    }\n",
              "</style>\n",
              "<table border=\"1\" class=\"dataframe\">\n",
              "  <thead>\n",
              "    <tr style=\"text-align: right;\">\n",
              "      <th></th>\n",
              "      <th>1</th>\n",
              "      <th>U13740</th>\n",
              "      <th>11/11/2019 9:05:58 AM</th>\n",
              "      <th>N55189 N42782 N34694 N45794 N18445 N63302 N10414 N19347 N31801</th>\n",
              "      <th>N55689-1 N35729-0</th>\n",
              "    </tr>\n",
              "  </thead>\n",
              "  <tbody>\n",
              "    <tr>\n",
              "      <th>0</th>\n",
              "      <td>2</td>\n",
              "      <td>U91836</td>\n",
              "      <td>11/12/2019 6:11:30 PM</td>\n",
              "      <td>N31739 N6072 N63045 N23979 N35656 N43353 N8129...</td>\n",
              "      <td>N20678-0 N39317-0 N58114-0 N20495-0 N42977-0 N...</td>\n",
              "    </tr>\n",
              "    <tr>\n",
              "      <th>1</th>\n",
              "      <td>3</td>\n",
              "      <td>U73700</td>\n",
              "      <td>11/14/2019 7:01:48 AM</td>\n",
              "      <td>N10732 N25792 N7563 N21087 N41087 N5445 N60384...</td>\n",
              "      <td>N50014-0 N23877-0 N35389-0 N49712-0 N16844-0 N...</td>\n",
              "    </tr>\n",
              "    <tr>\n",
              "      <th>2</th>\n",
              "      <td>4</td>\n",
              "      <td>U34670</td>\n",
              "      <td>11/11/2019 5:28:05 AM</td>\n",
              "      <td>N45729 N2203 N871 N53880 N41375 N43142 N33013 ...</td>\n",
              "      <td>N35729-0 N33632-0 N49685-1 N27581-0</td>\n",
              "    </tr>\n",
              "    <tr>\n",
              "      <th>3</th>\n",
              "      <td>5</td>\n",
              "      <td>U8125</td>\n",
              "      <td>11/12/2019 4:11:21 PM</td>\n",
              "      <td>N10078 N56514 N14904 N33740</td>\n",
              "      <td>N39985-0 N36050-0 N16096-0 N8400-1 N22407-0 N6...</td>\n",
              "    </tr>\n",
              "    <tr>\n",
              "      <th>4</th>\n",
              "      <td>6</td>\n",
              "      <td>U19739</td>\n",
              "      <td>11/11/2019 6:52:13 PM</td>\n",
              "      <td>N39074 N14343 N32607 N32320 N22007 N442 N19001...</td>\n",
              "      <td>N21119-1 N53696-0 N33619-1 N25722-0 N2869-0</td>\n",
              "    </tr>\n",
              "  </tbody>\n",
              "</table>\n",
              "</div>"
            ],
            "text/plain": [
              "   1  ...                                  N55689-1 N35729-0\n",
              "0  2  ...  N20678-0 N39317-0 N58114-0 N20495-0 N42977-0 N...\n",
              "1  3  ...  N50014-0 N23877-0 N35389-0 N49712-0 N16844-0 N...\n",
              "2  4  ...                N35729-0 N33632-0 N49685-1 N27581-0\n",
              "3  5  ...  N39985-0 N36050-0 N16096-0 N8400-1 N22407-0 N6...\n",
              "4  6  ...        N21119-1 N53696-0 N33619-1 N25722-0 N2869-0\n",
              "\n",
              "[5 rows x 5 columns]"
            ]
          },
          "metadata": {},
          "execution_count": 58
        }
      ]
    },
    {
      "cell_type": "code",
      "metadata": {
        "colab": {
          "base_uri": "https://localhost:8080/",
          "height": 825
        },
        "id": "9i6wDHTR1-tB",
        "outputId": "9b5ddefd-71bf-49fe-a6e7-565ff27b68fc"
      },
      "source": [
        "news = pd.read_csv(\"data1/news.tsv\", sep = '\\t')\n",
        "news.head()"
      ],
      "execution_count": null,
      "outputs": [
        {
          "output_type": "execute_result",
          "data": {
            "text/html": [
              "<div>\n",
              "<style scoped>\n",
              "    .dataframe tbody tr th:only-of-type {\n",
              "        vertical-align: middle;\n",
              "    }\n",
              "\n",
              "    .dataframe tbody tr th {\n",
              "        vertical-align: top;\n",
              "    }\n",
              "\n",
              "    .dataframe thead th {\n",
              "        text-align: right;\n",
              "    }\n",
              "</style>\n",
              "<table border=\"1\" class=\"dataframe\">\n",
              "  <thead>\n",
              "    <tr style=\"text-align: right;\">\n",
              "      <th></th>\n",
              "      <th>N55528</th>\n",
              "      <th>lifestyle</th>\n",
              "      <th>lifestyleroyals</th>\n",
              "      <th>The Brands Queen Elizabeth, Prince Charles, and Prince Philip Swear By</th>\n",
              "      <th>Shop the notebooks, jackets, and more that the royals can't live without.</th>\n",
              "      <th>https://assets.msn.com/labs/mind/AAGH0ET.html</th>\n",
              "      <th>[{\"Label\": \"Prince Philip, Duke of Edinburgh\", \"Type\": \"P\", \"WikidataId\": \"Q80976\", \"Confidence\": 1.0, \"OccurrenceOffsets\": [48], \"SurfaceForms\": [\"Prince Philip\"]}, {\"Label\": \"Charles, Prince of Wales\", \"Type\": \"P\", \"WikidataId\": \"Q43274\", \"Confidence\": 1.0, \"OccurrenceOffsets\": [28], \"SurfaceForms\": [\"Prince Charles\"]}, {\"Label\": \"Elizabeth II\", \"Type\": \"P\", \"WikidataId\": \"Q9682\", \"Confidence\": 0.97, \"OccurrenceOffsets\": [11], \"SurfaceForms\": [\"Queen Elizabeth\"]}]</th>\n",
              "      <th>[]</th>\n",
              "    </tr>\n",
              "  </thead>\n",
              "  <tbody>\n",
              "    <tr>\n",
              "      <th>0</th>\n",
              "      <td>N19639</td>\n",
              "      <td>health</td>\n",
              "      <td>weightloss</td>\n",
              "      <td>50 Worst Habits For Belly Fat</td>\n",
              "      <td>These seemingly harmless habits are holding yo...</td>\n",
              "      <td>https://assets.msn.com/labs/mind/AAB19MK.html</td>\n",
              "      <td>[{\"Label\": \"Adipose tissue\", \"Type\": \"C\", \"Wik...</td>\n",
              "      <td>[{\"Label\": \"Adipose tissue\", \"Type\": \"C\", \"Wik...</td>\n",
              "    </tr>\n",
              "    <tr>\n",
              "      <th>1</th>\n",
              "      <td>N61837</td>\n",
              "      <td>news</td>\n",
              "      <td>newsworld</td>\n",
              "      <td>The Cost of Trump's Aid Freeze in the Trenches...</td>\n",
              "      <td>Lt. Ivan Molchanets peeked over a parapet of s...</td>\n",
              "      <td>https://assets.msn.com/labs/mind/AAJgNsz.html</td>\n",
              "      <td>[]</td>\n",
              "      <td>[{\"Label\": \"Ukraine\", \"Type\": \"G\", \"WikidataId...</td>\n",
              "    </tr>\n",
              "    <tr>\n",
              "      <th>2</th>\n",
              "      <td>N53526</td>\n",
              "      <td>health</td>\n",
              "      <td>voices</td>\n",
              "      <td>I Was An NBA Wife. Here's How It Affected My M...</td>\n",
              "      <td>I felt like I was a fraud, and being an NBA wi...</td>\n",
              "      <td>https://assets.msn.com/labs/mind/AACk2N6.html</td>\n",
              "      <td>[]</td>\n",
              "      <td>[{\"Label\": \"National Basketball Association\", ...</td>\n",
              "    </tr>\n",
              "    <tr>\n",
              "      <th>3</th>\n",
              "      <td>N38324</td>\n",
              "      <td>health</td>\n",
              "      <td>medical</td>\n",
              "      <td>How to Get Rid of Skin Tags, According to a De...</td>\n",
              "      <td>They seem harmless, but there's a very good re...</td>\n",
              "      <td>https://assets.msn.com/labs/mind/AAAKEkt.html</td>\n",
              "      <td>[{\"Label\": \"Skin tag\", \"Type\": \"C\", \"WikidataI...</td>\n",
              "      <td>[{\"Label\": \"Skin tag\", \"Type\": \"C\", \"WikidataI...</td>\n",
              "    </tr>\n",
              "    <tr>\n",
              "      <th>4</th>\n",
              "      <td>N2073</td>\n",
              "      <td>sports</td>\n",
              "      <td>football_nfl</td>\n",
              "      <td>Should NFL be able to fine players for critici...</td>\n",
              "      <td>Several fines came down against NFL players fo...</td>\n",
              "      <td>https://assets.msn.com/labs/mind/AAJ4lap.html</td>\n",
              "      <td>[{\"Label\": \"National Football League\", \"Type\":...</td>\n",
              "      <td>[{\"Label\": \"National Football League\", \"Type\":...</td>\n",
              "    </tr>\n",
              "  </tbody>\n",
              "</table>\n",
              "</div>"
            ],
            "text/plain": [
              "   N55528  ...                                                 []\n",
              "0  N19639  ...  [{\"Label\": \"Adipose tissue\", \"Type\": \"C\", \"Wik...\n",
              "1  N61837  ...  [{\"Label\": \"Ukraine\", \"Type\": \"G\", \"WikidataId...\n",
              "2  N53526  ...  [{\"Label\": \"National Basketball Association\", ...\n",
              "3  N38324  ...  [{\"Label\": \"Skin tag\", \"Type\": \"C\", \"WikidataI...\n",
              "4   N2073  ...  [{\"Label\": \"National Football League\", \"Type\":...\n",
              "\n",
              "[5 rows x 8 columns]"
            ]
          },
          "metadata": {},
          "execution_count": 63
        }
      ]
    },
    {
      "cell_type": "code",
      "metadata": {
        "id": "JFEni_hYzb39"
      },
      "source": [
        "test_data.iloc[:,1] = behaviors.iloc[:,1]"
      ],
      "execution_count": null,
      "outputs": []
    },
    {
      "cell_type": "code",
      "metadata": {
        "id": "_Gg4-kxL121d"
      },
      "source": [
        "test_data.iloc[:,2] = news.iloc[:,0]"
      ],
      "execution_count": null,
      "outputs": []
    },
    {
      "cell_type": "code",
      "metadata": {
        "id": "bEtlxYe32sYy"
      },
      "source": [
        "test_data.iloc[:,3] = news.iloc[:,1]"
      ],
      "execution_count": null,
      "outputs": []
    },
    {
      "cell_type": "code",
      "metadata": {
        "id": "XVyJuwwU3Sxc"
      },
      "source": [
        "test_data.iloc[:,5] = behaviors.iloc[:,3]"
      ],
      "execution_count": null,
      "outputs": []
    },
    {
      "cell_type": "code",
      "metadata": {
        "id": "Z3rUfOH448nA"
      },
      "source": [
        "test_data.iloc[:,6] = news.iloc[:,2]"
      ],
      "execution_count": null,
      "outputs": []
    },
    {
      "cell_type": "code",
      "metadata": {
        "colab": {
          "base_uri": "https://localhost:8080/",
          "height": 491
        },
        "id": "B2uewstv1W3g",
        "outputId": "de7e939d-7e75-4658-d9f3-dd3ceaeba32e"
      },
      "source": [
        "test_data.head(10)"
      ],
      "execution_count": null,
      "outputs": [
        {
          "output_type": "execute_result",
          "data": {
            "text/html": [
              "<div>\n",
              "<style scoped>\n",
              "    .dataframe tbody tr th:only-of-type {\n",
              "        vertical-align: middle;\n",
              "    }\n",
              "\n",
              "    .dataframe tbody tr th {\n",
              "        vertical-align: top;\n",
              "    }\n",
              "\n",
              "    .dataframe thead th {\n",
              "        text-align: right;\n",
              "    }\n",
              "</style>\n",
              "<table border=\"1\" class=\"dataframe\">\n",
              "  <thead>\n",
              "    <tr style=\"text-align: right;\">\n",
              "      <th></th>\n",
              "      <th>1</th>\n",
              "      <th>A3R27T4HADWFFJ</th>\n",
              "      <th>B001PR0Y4O</th>\n",
              "      <th>Movies</th>\n",
              "      <th>1391040000</th>\n",
              "      <th>6302595916,B000I6BJ56</th>\n",
              "      <th>Movies,Movies</th>\n",
              "      <th>1138752000,1387584000</th>\n",
              "    </tr>\n",
              "  </thead>\n",
              "  <tbody>\n",
              "    <tr>\n",
              "      <th>0</th>\n",
              "      <td>0</td>\n",
              "      <td>U91836</td>\n",
              "      <td>N19639</td>\n",
              "      <td>health</td>\n",
              "      <td>1391040000</td>\n",
              "      <td>N31739 N6072 N63045 N23979 N35656 N43353 N8129...</td>\n",
              "      <td>weightloss</td>\n",
              "      <td>1138752000,1387584000</td>\n",
              "    </tr>\n",
              "    <tr>\n",
              "      <th>1</th>\n",
              "      <td>0</td>\n",
              "      <td>U73700</td>\n",
              "      <td>N61837</td>\n",
              "      <td>news</td>\n",
              "      <td>1391040000</td>\n",
              "      <td>N10732 N25792 N7563 N21087 N41087 N5445 N60384...</td>\n",
              "      <td>newsworld</td>\n",
              "      <td>1138752000,1387584000</td>\n",
              "    </tr>\n",
              "    <tr>\n",
              "      <th>2</th>\n",
              "      <td>0</td>\n",
              "      <td>U34670</td>\n",
              "      <td>N53526</td>\n",
              "      <td>health</td>\n",
              "      <td>1391040000</td>\n",
              "      <td>N45729 N2203 N871 N53880 N41375 N43142 N33013 ...</td>\n",
              "      <td>voices</td>\n",
              "      <td>1138752000,1387584000</td>\n",
              "    </tr>\n",
              "    <tr>\n",
              "      <th>3</th>\n",
              "      <td>0</td>\n",
              "      <td>U8125</td>\n",
              "      <td>N38324</td>\n",
              "      <td>health</td>\n",
              "      <td>1391040000</td>\n",
              "      <td>N10078 N56514 N14904 N33740</td>\n",
              "      <td>medical</td>\n",
              "      <td>1138752000,1387584000</td>\n",
              "    </tr>\n",
              "    <tr>\n",
              "      <th>4</th>\n",
              "      <td>0</td>\n",
              "      <td>U19739</td>\n",
              "      <td>N2073</td>\n",
              "      <td>sports</td>\n",
              "      <td>1391040000</td>\n",
              "      <td>N39074 N14343 N32607 N32320 N22007 N442 N19001...</td>\n",
              "      <td>football_nfl</td>\n",
              "      <td>1138752000,1387584000</td>\n",
              "    </tr>\n",
              "    <tr>\n",
              "      <th>5</th>\n",
              "      <td>0</td>\n",
              "      <td>U8355</td>\n",
              "      <td>N49186</td>\n",
              "      <td>weather</td>\n",
              "      <td>1391040000</td>\n",
              "      <td>N8419 N15771 N1431 N5888 N18663 N24123 N22130 ...</td>\n",
              "      <td>weathertopstories</td>\n",
              "      <td>1138752000,1387584000</td>\n",
              "    </tr>\n",
              "    <tr>\n",
              "      <th>6</th>\n",
              "      <td>0</td>\n",
              "      <td>U46596</td>\n",
              "      <td>N59295</td>\n",
              "      <td>news</td>\n",
              "      <td>1391040000</td>\n",
              "      <td>N47438 N20950 N21317 N5469</td>\n",
              "      <td>newsworld</td>\n",
              "      <td>1138752000,1387584000</td>\n",
              "    </tr>\n",
              "    <tr>\n",
              "      <th>7</th>\n",
              "      <td>0</td>\n",
              "      <td>U79199</td>\n",
              "      <td>N24510</td>\n",
              "      <td>entertainment</td>\n",
              "      <td>1391040000</td>\n",
              "      <td>N37083 N459 N29499 N38118 N37378 N24691 N27235...</td>\n",
              "      <td>gaming</td>\n",
              "      <td>1138752000,1387584000</td>\n",
              "    </tr>\n",
              "    <tr>\n",
              "      <th>8</th>\n",
              "      <td>0</td>\n",
              "      <td>U53231</td>\n",
              "      <td>N39237</td>\n",
              "      <td>news</td>\n",
              "      <td>1391040000</td>\n",
              "      <td>N58936 N15919 N11917 N2153 N55312 N13008 N4142...</td>\n",
              "      <td>newsscienceandtechnology</td>\n",
              "      <td>1138752000,1387584000</td>\n",
              "    </tr>\n",
              "    <tr>\n",
              "      <th>9</th>\n",
              "      <td>1</td>\n",
              "      <td>U89744</td>\n",
              "      <td>N9721</td>\n",
              "      <td>health</td>\n",
              "      <td>1402012800</td>\n",
              "      <td>N24422 N25287 N39121 N41777 N58226 N119 N29197...</td>\n",
              "      <td>nutrition</td>\n",
              "      <td>1361145600,1367625600,1367625600,1392681600,13...</td>\n",
              "    </tr>\n",
              "  </tbody>\n",
              "</table>\n",
              "</div>"
            ],
            "text/plain": [
              "   1  ...                              1138752000,1387584000\n",
              "0  0  ...                              1138752000,1387584000\n",
              "1  0  ...                              1138752000,1387584000\n",
              "2  0  ...                              1138752000,1387584000\n",
              "3  0  ...                              1138752000,1387584000\n",
              "4  0  ...                              1138752000,1387584000\n",
              "5  0  ...                              1138752000,1387584000\n",
              "6  0  ...                              1138752000,1387584000\n",
              "7  0  ...                              1138752000,1387584000\n",
              "8  0  ...                              1138752000,1387584000\n",
              "9  1  ...  1361145600,1367625600,1367625600,1392681600,13...\n",
              "\n",
              "[10 rows x 8 columns]"
            ]
          },
          "metadata": {},
          "execution_count": 72
        }
      ]
    },
    {
      "cell_type": "code",
      "metadata": {
        "id": "dJ0Hh4o1qXkz"
      },
      "source": [
        "help = test_data.to_csv(\"data1/final\", sep = '\\t', header = 0, index = 0)\n"
      ],
      "execution_count": null,
      "outputs": []
    },
    {
      "cell_type": "markdown",
      "metadata": {
        "id": "XTCG6gBFxX0T"
      },
      "source": [
        "# **validation dataset**"
      ]
    },
    {
      "cell_type": "code",
      "metadata": {
        "id": "Hxj3KCsBr6_M",
        "colab": {
          "base_uri": "https://localhost:8080/"
        },
        "outputId": "7844f8b9-b40f-4b40-f8f4-1553658cd32c"
      },
      "source": [
        "#link google drive\n",
        "from google.colab import drive\n",
        "drive.mount('/content/drive')"
      ],
      "execution_count": null,
      "outputs": [
        {
          "output_type": "stream",
          "name": "stdout",
          "text": [
            "Drive already mounted at /content/drive; to attempt to forcibly remount, call drive.mount(\"/content/drive\", force_remount=True).\n"
          ]
        }
      ]
    },
    {
      "cell_type": "code",
      "metadata": {
        "colab": {
          "base_uri": "https://localhost:8080/"
        },
        "id": "jepK8cLBvqb1",
        "outputId": "69a13f64-1968-4843-d3e6-a9fe7e5395dc"
      },
      "source": [
        "#enter the folder\n",
        "!ls\n",
        "import os\n",
        "os.chdir('/content/drive/My Drive/graduation-project/recommenders-main/data1')\n",
        "!ls"
      ],
      "execution_count": null,
      "outputs": [
        {
          "output_type": "stream",
          "name": "stdout",
          "text": [
            "behaviors.tsv\t      news.tsv\t\t      test_data\n",
            "entity_embedding.vec  relation_embedding.vec\n",
            "behaviors.tsv\t    final\t    news.tsv  train_data.csv  valid\n",
            "category_vocab.pkl  item_vocab.pkl  summary   user_vocab.pkl\n"
          ]
        }
      ]
    },
    {
      "cell_type": "code",
      "metadata": {
        "id": "fL09ewCyv-o8"
      },
      "source": [
        "import pandas as pd\n"
      ],
      "execution_count": null,
      "outputs": []
    },
    {
      "cell_type": "code",
      "metadata": {
        "colab": {
          "base_uri": "https://localhost:8080/",
          "height": 321
        },
        "id": "Kx7lFKqov5oS",
        "outputId": "d32cad97-48af-4c57-817e-99f203c53738"
      },
      "source": [
        "behaviors1 = pd.read_csv(\"behaviors.tsv\", sep = '\\t')\n",
        "behaviors1.head()"
      ],
      "execution_count": null,
      "outputs": [
        {
          "output_type": "execute_result",
          "data": {
            "text/html": [
              "<div>\n",
              "<style scoped>\n",
              "    .dataframe tbody tr th:only-of-type {\n",
              "        vertical-align: middle;\n",
              "    }\n",
              "\n",
              "    .dataframe tbody tr th {\n",
              "        vertical-align: top;\n",
              "    }\n",
              "\n",
              "    .dataframe thead th {\n",
              "        text-align: right;\n",
              "    }\n",
              "</style>\n",
              "<table border=\"1\" class=\"dataframe\">\n",
              "  <thead>\n",
              "    <tr style=\"text-align: right;\">\n",
              "      <th></th>\n",
              "      <th>1</th>\n",
              "      <th>U80234</th>\n",
              "      <th>11/15/2019 12:37:50 PM</th>\n",
              "      <th>N55189 N46039 N51741 N53234 N11276 N264 N40716 N28088 N43955 N6616 N47686 N63573 N38895 N30924 N35671</th>\n",
              "      <th>N28682-0 N48740-0 N31958-1 N34130-0 N6916-0 N5472-0 N50775-0 N24802-0 N19990-0 N33176-0 N62365-0 N5940-0 N6400-0 N58098-0 N42844-0 N49285-0 N51470-0 N53572-0 N11930-0 N21679-0 N55237-0 N29862-0</th>\n",
              "    </tr>\n",
              "  </thead>\n",
              "  <tbody>\n",
              "    <tr>\n",
              "      <th>0</th>\n",
              "      <td>2</td>\n",
              "      <td>U60458</td>\n",
              "      <td>11/15/2019 7:11:50 AM</td>\n",
              "      <td>N58715 N32109 N51180 N33438 N54827 N28488 N611...</td>\n",
              "      <td>N20036-0 N23513-1 N32536-0 N46976-0 N35216-0 N...</td>\n",
              "    </tr>\n",
              "    <tr>\n",
              "      <th>1</th>\n",
              "      <td>3</td>\n",
              "      <td>U44190</td>\n",
              "      <td>11/15/2019 9:55:12 AM</td>\n",
              "      <td>N56253 N1150 N55189 N16233 N61704 N51706 N5303...</td>\n",
              "      <td>N36779-0 N62365-0 N58098-0 N5472-0 N13408-0 N5...</td>\n",
              "    </tr>\n",
              "    <tr>\n",
              "      <th>2</th>\n",
              "      <td>4</td>\n",
              "      <td>U87380</td>\n",
              "      <td>11/15/2019 3:12:46 PM</td>\n",
              "      <td>N63554 N49153 N28678 N23232 N43369 N58518 N444...</td>\n",
              "      <td>N6950-0 N60215-0 N6074-0 N11930-0 N6916-0 N248...</td>\n",
              "    </tr>\n",
              "    <tr>\n",
              "      <th>3</th>\n",
              "      <td>5</td>\n",
              "      <td>U9444</td>\n",
              "      <td>11/15/2019 8:25:46 AM</td>\n",
              "      <td>N51692 N18285 N26015 N22679 N55556</td>\n",
              "      <td>N5940-1 N23513-0 N49285-0 N23355-0 N19990-0 N3...</td>\n",
              "    </tr>\n",
              "    <tr>\n",
              "      <th>4</th>\n",
              "      <td>6</td>\n",
              "      <td>U69606</td>\n",
              "      <td>11/15/2019 1:24:44 PM</td>\n",
              "      <td>N879 N19591 N63054 N53033 N54088 N34140 N14952...</td>\n",
              "      <td>N29862-0 N48740-0 N11390-0 N5472-0 N53572-0 N2...</td>\n",
              "    </tr>\n",
              "  </tbody>\n",
              "</table>\n",
              "</div>"
            ],
            "text/plain": [
              "   1  ... N28682-0 N48740-0 N31958-1 N34130-0 N6916-0 N5472-0 N50775-0 N24802-0 N19990-0 N33176-0 N62365-0 N5940-0 N6400-0 N58098-0 N42844-0 N49285-0 N51470-0 N53572-0 N11930-0 N21679-0 N55237-0 N29862-0\n",
              "0  2  ...  N20036-0 N23513-1 N32536-0 N46976-0 N35216-0 N...                                                                                                                                               \n",
              "1  3  ...  N36779-0 N62365-0 N58098-0 N5472-0 N13408-0 N5...                                                                                                                                               \n",
              "2  4  ...  N6950-0 N60215-0 N6074-0 N11930-0 N6916-0 N248...                                                                                                                                               \n",
              "3  5  ...  N5940-1 N23513-0 N49285-0 N23355-0 N19990-0 N3...                                                                                                                                               \n",
              "4  6  ...  N29862-0 N48740-0 N11390-0 N5472-0 N53572-0 N2...                                                                                                                                               \n",
              "\n",
              "[5 rows x 5 columns]"
            ]
          },
          "metadata": {},
          "execution_count": 77
        }
      ]
    },
    {
      "cell_type": "code",
      "metadata": {
        "colab": {
          "base_uri": "https://localhost:8080/"
        },
        "id": "g7WoR_rtwnNT",
        "outputId": "5d2d82f2-9f16-4ae1-af21-9813f46a8013"
      },
      "source": [
        "behaviors1.count"
      ],
      "execution_count": null,
      "outputs": [
        {
          "output_type": "execute_result",
          "data": {
            "text/plain": [
              "<bound method DataFrame.count of            1  ... N28682-0 N48740-0 N31958-1 N34130-0 N6916-0 N5472-0 N50775-0 N24802-0 N19990-0 N33176-0 N62365-0 N5940-0 N6400-0 N58098-0 N42844-0 N49285-0 N51470-0 N53572-0 N11930-0 N21679-0 N55237-0 N29862-0\n",
              "0          2  ...  N20036-0 N23513-1 N32536-0 N46976-0 N35216-0 N...                                                                                                                                               \n",
              "1          3  ...  N36779-0 N62365-0 N58098-0 N5472-0 N13408-0 N5...                                                                                                                                               \n",
              "2          4  ...  N6950-0 N60215-0 N6074-0 N11930-0 N6916-0 N248...                                                                                                                                               \n",
              "3          5  ...  N5940-1 N23513-0 N49285-0 N23355-0 N19990-0 N3...                                                                                                                                               \n",
              "4          6  ...  N29862-0 N48740-0 N11390-0 N5472-0 N53572-0 N2...                                                                                                                                               \n",
              "...      ...  ...                                                ...                                                                                                                                               \n",
              "73146  73148  ...  N496-0 N35159-0 N59856-0 N13270-0 N47213-0 N26...                                                                                                                                               \n",
              "73147  73149  ...  N49285-0 N31958-0 N55237-0 N42844-0 N29862-0 N...                                                                                                                                               \n",
              "73148  73150  ...  N7043-0 N512-0 N60215-1 N45057-0 N496-0 N37055...                                                                                                                                               \n",
              "73149  73151  ...  N23692-0 N19990-0 N20187-0 N5940-0 N13408-0 N3...                                                                                                                                               \n",
              "73150  73152  ...  N29862-0 N5472-0 N21679-1 N6400-0 N53572-0 N50...                                                                                                                                               \n",
              "\n",
              "[73151 rows x 5 columns]>"
            ]
          },
          "metadata": {},
          "execution_count": 80
        }
      ]
    },
    {
      "cell_type": "code",
      "metadata": {
        "colab": {
          "base_uri": "https://localhost:8080/",
          "height": 825
        },
        "id": "8_b2IqXvwMh5",
        "outputId": "1007e264-0065-4002-d53d-d4b282cb1bd1"
      },
      "source": [
        "news1 = pd.read_csv(\"news.tsv\", sep = '\\t')\n",
        "news1.head()"
      ],
      "execution_count": null,
      "outputs": [
        {
          "output_type": "execute_result",
          "data": {
            "text/html": [
              "<div>\n",
              "<style scoped>\n",
              "    .dataframe tbody tr th:only-of-type {\n",
              "        vertical-align: middle;\n",
              "    }\n",
              "\n",
              "    .dataframe tbody tr th {\n",
              "        vertical-align: top;\n",
              "    }\n",
              "\n",
              "    .dataframe thead th {\n",
              "        text-align: right;\n",
              "    }\n",
              "</style>\n",
              "<table border=\"1\" class=\"dataframe\">\n",
              "  <thead>\n",
              "    <tr style=\"text-align: right;\">\n",
              "      <th></th>\n",
              "      <th>N55528</th>\n",
              "      <th>lifestyle</th>\n",
              "      <th>lifestyleroyals</th>\n",
              "      <th>The Brands Queen Elizabeth, Prince Charles, and Prince Philip Swear By</th>\n",
              "      <th>Shop the notebooks, jackets, and more that the royals can't live without.</th>\n",
              "      <th>https://assets.msn.com/labs/mind/AAGH0ET.html</th>\n",
              "      <th>[{\"Label\": \"Prince Philip, Duke of Edinburgh\", \"Type\": \"P\", \"WikidataId\": \"Q80976\", \"Confidence\": 1.0, \"OccurrenceOffsets\": [48], \"SurfaceForms\": [\"Prince Philip\"]}, {\"Label\": \"Charles, Prince of Wales\", \"Type\": \"P\", \"WikidataId\": \"Q43274\", \"Confidence\": 1.0, \"OccurrenceOffsets\": [28], \"SurfaceForms\": [\"Prince Charles\"]}, {\"Label\": \"Elizabeth II\", \"Type\": \"P\", \"WikidataId\": \"Q9682\", \"Confidence\": 0.97, \"OccurrenceOffsets\": [11], \"SurfaceForms\": [\"Queen Elizabeth\"]}]</th>\n",
              "      <th>[]</th>\n",
              "    </tr>\n",
              "  </thead>\n",
              "  <tbody>\n",
              "    <tr>\n",
              "      <th>0</th>\n",
              "      <td>N18955</td>\n",
              "      <td>health</td>\n",
              "      <td>medical</td>\n",
              "      <td>Dispose of unwanted prescription drugs during ...</td>\n",
              "      <td>NaN</td>\n",
              "      <td>https://assets.msn.com/labs/mind/AAISxPN.html</td>\n",
              "      <td>[{\"Label\": \"Drug Enforcement Administration\", ...</td>\n",
              "      <td>[]</td>\n",
              "    </tr>\n",
              "    <tr>\n",
              "      <th>1</th>\n",
              "      <td>N61837</td>\n",
              "      <td>news</td>\n",
              "      <td>newsworld</td>\n",
              "      <td>The Cost of Trump's Aid Freeze in the Trenches...</td>\n",
              "      <td>Lt. Ivan Molchanets peeked over a parapet of s...</td>\n",
              "      <td>https://assets.msn.com/labs/mind/AAJgNsz.html</td>\n",
              "      <td>[]</td>\n",
              "      <td>[{\"Label\": \"Ukraine\", \"Type\": \"G\", \"WikidataId...</td>\n",
              "    </tr>\n",
              "    <tr>\n",
              "      <th>2</th>\n",
              "      <td>N53526</td>\n",
              "      <td>health</td>\n",
              "      <td>voices</td>\n",
              "      <td>I Was An NBA Wife. Here's How It Affected My M...</td>\n",
              "      <td>I felt like I was a fraud, and being an NBA wi...</td>\n",
              "      <td>https://assets.msn.com/labs/mind/AACk2N6.html</td>\n",
              "      <td>[]</td>\n",
              "      <td>[{\"Label\": \"National Basketball Association\", ...</td>\n",
              "    </tr>\n",
              "    <tr>\n",
              "      <th>3</th>\n",
              "      <td>N38324</td>\n",
              "      <td>health</td>\n",
              "      <td>medical</td>\n",
              "      <td>How to Get Rid of Skin Tags, According to a De...</td>\n",
              "      <td>They seem harmless, but there's a very good re...</td>\n",
              "      <td>https://assets.msn.com/labs/mind/AAAKEkt.html</td>\n",
              "      <td>[{\"Label\": \"Skin tag\", \"Type\": \"C\", \"WikidataI...</td>\n",
              "      <td>[{\"Label\": \"Skin tag\", \"Type\": \"C\", \"WikidataI...</td>\n",
              "    </tr>\n",
              "    <tr>\n",
              "      <th>4</th>\n",
              "      <td>N2073</td>\n",
              "      <td>sports</td>\n",
              "      <td>football_nfl</td>\n",
              "      <td>Should NFL be able to fine players for critici...</td>\n",
              "      <td>Several fines came down against NFL players fo...</td>\n",
              "      <td>https://assets.msn.com/labs/mind/AAJ4lap.html</td>\n",
              "      <td>[{\"Label\": \"National Football League\", \"Type\":...</td>\n",
              "      <td>[{\"Label\": \"National Football League\", \"Type\":...</td>\n",
              "    </tr>\n",
              "  </tbody>\n",
              "</table>\n",
              "</div>"
            ],
            "text/plain": [
              "   N55528  ...                                                 []\n",
              "0  N18955  ...                                                 []\n",
              "1  N61837  ...  [{\"Label\": \"Ukraine\", \"Type\": \"G\", \"WikidataId...\n",
              "2  N53526  ...  [{\"Label\": \"National Basketball Association\", ...\n",
              "3  N38324  ...  [{\"Label\": \"Skin tag\", \"Type\": \"C\", \"WikidataI...\n",
              "4   N2073  ...  [{\"Label\": \"National Football League\", \"Type\":...\n",
              "\n",
              "[5 rows x 8 columns]"
            ]
          },
          "metadata": {},
          "execution_count": 79
        }
      ]
    },
    {
      "cell_type": "code",
      "metadata": {
        "colab": {
          "base_uri": "https://localhost:8080/"
        },
        "id": "GYNzQDgdwajt",
        "outputId": "d881c599-bb6c-46ab-a8e6-bbc2df15a23a"
      },
      "source": [
        "news.count"
      ],
      "execution_count": null,
      "outputs": [
        {
          "output_type": "execute_result",
          "data": {
            "text/plain": [
              "<bound method DataFrame.count of        N55528  ...                                                 []\n",
              "0      N19639  ...  [{\"Label\": \"Adipose tissue\", \"Type\": \"C\", \"Wik...\n",
              "1      N61837  ...  [{\"Label\": \"Ukraine\", \"Type\": \"G\", \"WikidataId...\n",
              "2      N53526  ...  [{\"Label\": \"National Basketball Association\", ...\n",
              "3      N38324  ...  [{\"Label\": \"Skin tag\", \"Type\": \"C\", \"WikidataI...\n",
              "4       N2073  ...  [{\"Label\": \"National Football League\", \"Type\":...\n",
              "...       ...  ...                                                ...\n",
              "51276  N16909  ...  [{\"Label\": \"Woolsey Fire\", \"Type\": \"N\", \"Wikid...\n",
              "51277  N47585  ...                                                 []\n",
              "51278   N7482  ...                                                 []\n",
              "51279  N34418  ...                                                 []\n",
              "51280  N44276  ...                                                 []\n",
              "\n",
              "[51281 rows x 8 columns]>"
            ]
          },
          "metadata": {},
          "execution_count": 81
        }
      ]
    },
    {
      "cell_type": "code",
      "metadata": {
        "colab": {
          "base_uri": "https://localhost:8080/",
          "height": 203
        },
        "id": "G8DoJirtwtmL",
        "outputId": "247b73c0-a4de-4978-9c74-945927bda2c3"
      },
      "source": [
        "test_data = pd.read_table(\"test_data\", sep = '\\t', names=None, index_col=None)\n",
        "test_data.head()"
      ],
      "execution_count": null,
      "outputs": [
        {
          "output_type": "execute_result",
          "data": {
            "text/html": [
              "<div>\n",
              "<style scoped>\n",
              "    .dataframe tbody tr th:only-of-type {\n",
              "        vertical-align: middle;\n",
              "    }\n",
              "\n",
              "    .dataframe tbody tr th {\n",
              "        vertical-align: top;\n",
              "    }\n",
              "\n",
              "    .dataframe thead th {\n",
              "        text-align: right;\n",
              "    }\n",
              "</style>\n",
              "<table border=\"1\" class=\"dataframe\">\n",
              "  <thead>\n",
              "    <tr style=\"text-align: right;\">\n",
              "      <th></th>\n",
              "      <th>1</th>\n",
              "      <th>A3R27T4HADWFFJ</th>\n",
              "      <th>B001PR0Y4O</th>\n",
              "      <th>Movies</th>\n",
              "      <th>1391040000</th>\n",
              "      <th>6302595916,B000I6BJ56</th>\n",
              "      <th>Movies,Movies</th>\n",
              "      <th>1138752000,1387584000</th>\n",
              "    </tr>\n",
              "  </thead>\n",
              "  <tbody>\n",
              "    <tr>\n",
              "      <th>0</th>\n",
              "      <td>0</td>\n",
              "      <td>A3R27T4HADWFFJ</td>\n",
              "      <td>B000CPH9XY</td>\n",
              "      <td>Arena Rock</td>\n",
              "      <td>1391040000</td>\n",
              "      <td>6302595916,B000I6BJ56</td>\n",
              "      <td>Movies,Movies</td>\n",
              "      <td>1138752000,1387584000</td>\n",
              "    </tr>\n",
              "    <tr>\n",
              "      <th>1</th>\n",
              "      <td>0</td>\n",
              "      <td>A3R27T4HADWFFJ</td>\n",
              "      <td>6303828035</td>\n",
              "      <td>Movies</td>\n",
              "      <td>1391040000</td>\n",
              "      <td>6302595916,B000I6BJ56</td>\n",
              "      <td>Movies,Movies</td>\n",
              "      <td>1138752000,1387584000</td>\n",
              "    </tr>\n",
              "    <tr>\n",
              "      <th>2</th>\n",
              "      <td>0</td>\n",
              "      <td>A3R27T4HADWFFJ</td>\n",
              "      <td>1559409002</td>\n",
              "      <td>Movies</td>\n",
              "      <td>1391040000</td>\n",
              "      <td>6302595916,B000I6BJ56</td>\n",
              "      <td>Movies,Movies</td>\n",
              "      <td>1138752000,1387584000</td>\n",
              "    </tr>\n",
              "    <tr>\n",
              "      <th>3</th>\n",
              "      <td>0</td>\n",
              "      <td>A3R27T4HADWFFJ</td>\n",
              "      <td>B001NP8PQM</td>\n",
              "      <td>Rock</td>\n",
              "      <td>1391040000</td>\n",
              "      <td>6302595916,B000I6BJ56</td>\n",
              "      <td>Movies,Movies</td>\n",
              "      <td>1138752000,1387584000</td>\n",
              "    </tr>\n",
              "    <tr>\n",
              "      <th>4</th>\n",
              "      <td>0</td>\n",
              "      <td>A3R27T4HADWFFJ</td>\n",
              "      <td>B000LQN1LI</td>\n",
              "      <td>TV</td>\n",
              "      <td>1391040000</td>\n",
              "      <td>6302595916,B000I6BJ56</td>\n",
              "      <td>Movies,Movies</td>\n",
              "      <td>1138752000,1387584000</td>\n",
              "    </tr>\n",
              "  </tbody>\n",
              "</table>\n",
              "</div>"
            ],
            "text/plain": [
              "   1  A3R27T4HADWFFJ  ...  Movies,Movies  1138752000,1387584000\n",
              "0  0  A3R27T4HADWFFJ  ...  Movies,Movies  1138752000,1387584000\n",
              "1  0  A3R27T4HADWFFJ  ...  Movies,Movies  1138752000,1387584000\n",
              "2  0  A3R27T4HADWFFJ  ...  Movies,Movies  1138752000,1387584000\n",
              "3  0  A3R27T4HADWFFJ  ...  Movies,Movies  1138752000,1387584000\n",
              "4  0  A3R27T4HADWFFJ  ...  Movies,Movies  1138752000,1387584000\n",
              "\n",
              "[5 rows x 8 columns]"
            ]
          },
          "metadata": {},
          "execution_count": 82
        }
      ]
    },
    {
      "cell_type": "code",
      "metadata": {
        "id": "ULih7Yslx8-S"
      },
      "source": [
        "valid = test_data.copy()\n",
        "valid.iloc[:,1] = behaviors1.iloc[:,1]"
      ],
      "execution_count": null,
      "outputs": []
    },
    {
      "cell_type": "code",
      "metadata": {
        "id": "lTsn-Rxhzeqy"
      },
      "source": [
        "valid.iloc[:,2] = news1.iloc[:,0]"
      ],
      "execution_count": null,
      "outputs": []
    },
    {
      "cell_type": "code",
      "metadata": {
        "id": "vMFci2DEzwq_"
      },
      "source": [
        "valid.iloc[:,3] = news1.iloc[:,1]"
      ],
      "execution_count": null,
      "outputs": []
    },
    {
      "cell_type": "code",
      "metadata": {
        "id": "2m-hIk_qz7iY"
      },
      "source": [
        "valid.iloc[:,5] = behaviors1.iloc[:,3]"
      ],
      "execution_count": null,
      "outputs": []
    },
    {
      "cell_type": "code",
      "metadata": {
        "id": "z3KngyYg0PYc"
      },
      "source": [
        "valid.iloc[:,6] = news1.iloc[:,2]"
      ],
      "execution_count": null,
      "outputs": []
    },
    {
      "cell_type": "code",
      "metadata": {
        "colab": {
          "base_uri": "https://localhost:8080/",
          "height": 203
        },
        "id": "6iBCLaoQzWoP",
        "outputId": "33ddfbed-4168-4afd-880d-11feccf54c9c"
      },
      "source": [
        "valid.head()"
      ],
      "execution_count": null,
      "outputs": [
        {
          "output_type": "execute_result",
          "data": {
            "text/html": [
              "<div>\n",
              "<style scoped>\n",
              "    .dataframe tbody tr th:only-of-type {\n",
              "        vertical-align: middle;\n",
              "    }\n",
              "\n",
              "    .dataframe tbody tr th {\n",
              "        vertical-align: top;\n",
              "    }\n",
              "\n",
              "    .dataframe thead th {\n",
              "        text-align: right;\n",
              "    }\n",
              "</style>\n",
              "<table border=\"1\" class=\"dataframe\">\n",
              "  <thead>\n",
              "    <tr style=\"text-align: right;\">\n",
              "      <th></th>\n",
              "      <th>1</th>\n",
              "      <th>A3R27T4HADWFFJ</th>\n",
              "      <th>B001PR0Y4O</th>\n",
              "      <th>Movies</th>\n",
              "      <th>1391040000</th>\n",
              "      <th>6302595916,B000I6BJ56</th>\n",
              "      <th>Movies,Movies</th>\n",
              "      <th>1138752000,1387584000</th>\n",
              "    </tr>\n",
              "  </thead>\n",
              "  <tbody>\n",
              "    <tr>\n",
              "      <th>0</th>\n",
              "      <td>0</td>\n",
              "      <td>U60458</td>\n",
              "      <td>N18955</td>\n",
              "      <td>health</td>\n",
              "      <td>1391040000</td>\n",
              "      <td>N58715 N32109 N51180 N33438 N54827 N28488 N611...</td>\n",
              "      <td>medical</td>\n",
              "      <td>1138752000,1387584000</td>\n",
              "    </tr>\n",
              "    <tr>\n",
              "      <th>1</th>\n",
              "      <td>0</td>\n",
              "      <td>U44190</td>\n",
              "      <td>N61837</td>\n",
              "      <td>news</td>\n",
              "      <td>1391040000</td>\n",
              "      <td>N56253 N1150 N55189 N16233 N61704 N51706 N5303...</td>\n",
              "      <td>newsworld</td>\n",
              "      <td>1138752000,1387584000</td>\n",
              "    </tr>\n",
              "    <tr>\n",
              "      <th>2</th>\n",
              "      <td>0</td>\n",
              "      <td>U87380</td>\n",
              "      <td>N53526</td>\n",
              "      <td>health</td>\n",
              "      <td>1391040000</td>\n",
              "      <td>N63554 N49153 N28678 N23232 N43369 N58518 N444...</td>\n",
              "      <td>voices</td>\n",
              "      <td>1138752000,1387584000</td>\n",
              "    </tr>\n",
              "    <tr>\n",
              "      <th>3</th>\n",
              "      <td>0</td>\n",
              "      <td>U9444</td>\n",
              "      <td>N38324</td>\n",
              "      <td>health</td>\n",
              "      <td>1391040000</td>\n",
              "      <td>N51692 N18285 N26015 N22679 N55556</td>\n",
              "      <td>medical</td>\n",
              "      <td>1138752000,1387584000</td>\n",
              "    </tr>\n",
              "    <tr>\n",
              "      <th>4</th>\n",
              "      <td>0</td>\n",
              "      <td>U69606</td>\n",
              "      <td>N2073</td>\n",
              "      <td>sports</td>\n",
              "      <td>1391040000</td>\n",
              "      <td>N879 N19591 N63054 N53033 N54088 N34140 N14952...</td>\n",
              "      <td>football_nfl</td>\n",
              "      <td>1138752000,1387584000</td>\n",
              "    </tr>\n",
              "  </tbody>\n",
              "</table>\n",
              "</div>"
            ],
            "text/plain": [
              "   1 A3R27T4HADWFFJ  ... Movies,Movies  1138752000,1387584000\n",
              "0  0         U60458  ...       medical  1138752000,1387584000\n",
              "1  0         U44190  ...     newsworld  1138752000,1387584000\n",
              "2  0         U87380  ...        voices  1138752000,1387584000\n",
              "3  0          U9444  ...       medical  1138752000,1387584000\n",
              "4  0         U69606  ...  football_nfl  1138752000,1387584000\n",
              "\n",
              "[5 rows x 8 columns]"
            ]
          },
          "metadata": {},
          "execution_count": 95
        }
      ]
    },
    {
      "cell_type": "code",
      "metadata": {
        "id": "Loqdt-ZhzY7A"
      },
      "source": [
        "valid.to_csv(\"valid\", sep = '\\t', header = 0, index = 0)\n"
      ],
      "execution_count": null,
      "outputs": []
    },
    {
      "cell_type": "code",
      "metadata": {
        "colab": {
          "base_uri": "https://localhost:8080/",
          "height": 275
        },
        "id": "zVJudmNauIkf",
        "outputId": "815f756e-627b-4645-9391-8cf83437c634"
      },
      "source": [
        "valid = pd.read_csv(\"valid\", sep = '\\t')\n",
        "valid.head()"
      ],
      "execution_count": null,
      "outputs": [
        {
          "output_type": "stream",
          "name": "stderr",
          "text": [
            "/usr/local/lib/python3.7/dist-packages/IPython/core/interactiveshell.py:2718: DtypeWarning: Columns (1,2,3,5,6) have mixed types.Specify dtype option on import or set low_memory=False.\n",
            "  interactivity=interactivity, compiler=compiler, result=result)\n"
          ]
        },
        {
          "output_type": "execute_result",
          "data": {
            "text/html": [
              "<div>\n",
              "<style scoped>\n",
              "    .dataframe tbody tr th:only-of-type {\n",
              "        vertical-align: middle;\n",
              "    }\n",
              "\n",
              "    .dataframe tbody tr th {\n",
              "        vertical-align: top;\n",
              "    }\n",
              "\n",
              "    .dataframe thead th {\n",
              "        text-align: right;\n",
              "    }\n",
              "</style>\n",
              "<table border=\"1\" class=\"dataframe\">\n",
              "  <thead>\n",
              "    <tr style=\"text-align: right;\">\n",
              "      <th></th>\n",
              "      <th>0</th>\n",
              "      <th>U60458</th>\n",
              "      <th>N18955</th>\n",
              "      <th>health</th>\n",
              "      <th>1391040000</th>\n",
              "      <th>N58715 N32109 N51180 N33438 N54827 N28488 N61186 N34775 N33742 N50020 N57061 N30924 N6778</th>\n",
              "      <th>medical</th>\n",
              "      <th>1138752000,1387584000</th>\n",
              "    </tr>\n",
              "  </thead>\n",
              "  <tbody>\n",
              "    <tr>\n",
              "      <th>0</th>\n",
              "      <td>0</td>\n",
              "      <td>U44190</td>\n",
              "      <td>N61837</td>\n",
              "      <td>news</td>\n",
              "      <td>1391040000</td>\n",
              "      <td>N56253 N1150 N55189 N16233 N61704 N51706 N5303...</td>\n",
              "      <td>newsworld</td>\n",
              "      <td>1138752000,1387584000</td>\n",
              "    </tr>\n",
              "    <tr>\n",
              "      <th>1</th>\n",
              "      <td>0</td>\n",
              "      <td>U87380</td>\n",
              "      <td>N53526</td>\n",
              "      <td>health</td>\n",
              "      <td>1391040000</td>\n",
              "      <td>N63554 N49153 N28678 N23232 N43369 N58518 N444...</td>\n",
              "      <td>voices</td>\n",
              "      <td>1138752000,1387584000</td>\n",
              "    </tr>\n",
              "    <tr>\n",
              "      <th>2</th>\n",
              "      <td>0</td>\n",
              "      <td>U9444</td>\n",
              "      <td>N38324</td>\n",
              "      <td>health</td>\n",
              "      <td>1391040000</td>\n",
              "      <td>N51692 N18285 N26015 N22679 N55556</td>\n",
              "      <td>medical</td>\n",
              "      <td>1138752000,1387584000</td>\n",
              "    </tr>\n",
              "    <tr>\n",
              "      <th>3</th>\n",
              "      <td>0</td>\n",
              "      <td>U69606</td>\n",
              "      <td>N2073</td>\n",
              "      <td>sports</td>\n",
              "      <td>1391040000</td>\n",
              "      <td>N879 N19591 N63054 N53033 N54088 N34140 N14952...</td>\n",
              "      <td>football_nfl</td>\n",
              "      <td>1138752000,1387584000</td>\n",
              "    </tr>\n",
              "    <tr>\n",
              "      <th>4</th>\n",
              "      <td>0</td>\n",
              "      <td>U70421</td>\n",
              "      <td>N11429</td>\n",
              "      <td>news</td>\n",
              "      <td>1391040000</td>\n",
              "      <td>N38118 N55189 N16233 N37942 N23105 N27526 N965...</td>\n",
              "      <td>newsscienceandtechnology</td>\n",
              "      <td>1138752000,1387584000</td>\n",
              "    </tr>\n",
              "  </tbody>\n",
              "</table>\n",
              "</div>"
            ],
            "text/plain": [
              "   0  U60458  ...                   medical  1138752000,1387584000\n",
              "0  0  U44190  ...                 newsworld  1138752000,1387584000\n",
              "1  0  U87380  ...                    voices  1138752000,1387584000\n",
              "2  0   U9444  ...                   medical  1138752000,1387584000\n",
              "3  0  U69606  ...              football_nfl  1138752000,1387584000\n",
              "4  0  U70421  ...  newsscienceandtechnology  1138752000,1387584000\n",
              "\n",
              "[5 rows x 8 columns]"
            ]
          },
          "metadata": {},
          "execution_count": 104
        }
      ]
    },
    {
      "cell_type": "code",
      "metadata": {
        "colab": {
          "base_uri": "https://localhost:8080/",
          "height": 518
        },
        "id": "HgKx_d2cuZM5",
        "outputId": "4167561e-4d95-49d1-9440-9cde780158bd"
      },
      "source": [
        "valid.iloc[0:,]"
      ],
      "execution_count": null,
      "outputs": [
        {
          "output_type": "execute_result",
          "data": {
            "text/html": [
              "<div>\n",
              "<style scoped>\n",
              "    .dataframe tbody tr th:only-of-type {\n",
              "        vertical-align: middle;\n",
              "    }\n",
              "\n",
              "    .dataframe tbody tr th {\n",
              "        vertical-align: top;\n",
              "    }\n",
              "\n",
              "    .dataframe thead th {\n",
              "        text-align: right;\n",
              "    }\n",
              "</style>\n",
              "<table border=\"1\" class=\"dataframe\">\n",
              "  <thead>\n",
              "    <tr style=\"text-align: right;\">\n",
              "      <th></th>\n",
              "      <th>0</th>\n",
              "      <th>U60458</th>\n",
              "      <th>N18955</th>\n",
              "      <th>health</th>\n",
              "      <th>1391040000</th>\n",
              "      <th>N58715 N32109 N51180 N33438 N54827 N28488 N61186 N34775 N33742 N50020 N57061 N30924 N6778</th>\n",
              "      <th>medical</th>\n",
              "      <th>1138752000,1387584000</th>\n",
              "    </tr>\n",
              "  </thead>\n",
              "  <tbody>\n",
              "    <tr>\n",
              "      <th>0</th>\n",
              "      <td>0</td>\n",
              "      <td>U44190</td>\n",
              "      <td>N61837</td>\n",
              "      <td>news</td>\n",
              "      <td>1391040000</td>\n",
              "      <td>N56253 N1150 N55189 N16233 N61704 N51706 N5303...</td>\n",
              "      <td>newsworld</td>\n",
              "      <td>1138752000,1387584000</td>\n",
              "    </tr>\n",
              "    <tr>\n",
              "      <th>1</th>\n",
              "      <td>0</td>\n",
              "      <td>U87380</td>\n",
              "      <td>N53526</td>\n",
              "      <td>health</td>\n",
              "      <td>1391040000</td>\n",
              "      <td>N63554 N49153 N28678 N23232 N43369 N58518 N444...</td>\n",
              "      <td>voices</td>\n",
              "      <td>1138752000,1387584000</td>\n",
              "    </tr>\n",
              "    <tr>\n",
              "      <th>2</th>\n",
              "      <td>0</td>\n",
              "      <td>U9444</td>\n",
              "      <td>N38324</td>\n",
              "      <td>health</td>\n",
              "      <td>1391040000</td>\n",
              "      <td>N51692 N18285 N26015 N22679 N55556</td>\n",
              "      <td>medical</td>\n",
              "      <td>1138752000,1387584000</td>\n",
              "    </tr>\n",
              "    <tr>\n",
              "      <th>3</th>\n",
              "      <td>0</td>\n",
              "      <td>U69606</td>\n",
              "      <td>N2073</td>\n",
              "      <td>sports</td>\n",
              "      <td>1391040000</td>\n",
              "      <td>N879 N19591 N63054 N53033 N54088 N34140 N14952...</td>\n",
              "      <td>football_nfl</td>\n",
              "      <td>1138752000,1387584000</td>\n",
              "    </tr>\n",
              "    <tr>\n",
              "      <th>4</th>\n",
              "      <td>0</td>\n",
              "      <td>U70421</td>\n",
              "      <td>N11429</td>\n",
              "      <td>news</td>\n",
              "      <td>1391040000</td>\n",
              "      <td>N38118 N55189 N16233 N37942 N23105 N27526 N965...</td>\n",
              "      <td>newsscienceandtechnology</td>\n",
              "      <td>1138752000,1387584000</td>\n",
              "    </tr>\n",
              "    <tr>\n",
              "      <th>...</th>\n",
              "      <td>...</td>\n",
              "      <td>...</td>\n",
              "      <td>...</td>\n",
              "      <td>...</td>\n",
              "      <td>...</td>\n",
              "      <td>...</td>\n",
              "      <td>...</td>\n",
              "      <td>...</td>\n",
              "    </tr>\n",
              "    <tr>\n",
              "      <th>471743</th>\n",
              "      <td>0</td>\n",
              "      <td>NaN</td>\n",
              "      <td>NaN</td>\n",
              "      <td>NaN</td>\n",
              "      <td>1399507200</td>\n",
              "      <td>NaN</td>\n",
              "      <td>NaN</td>\n",
              "      <td>1397779200,1397779200,1397779200,1397347200,13...</td>\n",
              "    </tr>\n",
              "    <tr>\n",
              "      <th>471744</th>\n",
              "      <td>0</td>\n",
              "      <td>NaN</td>\n",
              "      <td>NaN</td>\n",
              "      <td>NaN</td>\n",
              "      <td>1399507200</td>\n",
              "      <td>NaN</td>\n",
              "      <td>NaN</td>\n",
              "      <td>1397779200,1397779200,1397779200,1397347200,13...</td>\n",
              "    </tr>\n",
              "    <tr>\n",
              "      <th>471745</th>\n",
              "      <td>0</td>\n",
              "      <td>NaN</td>\n",
              "      <td>NaN</td>\n",
              "      <td>NaN</td>\n",
              "      <td>1399507200</td>\n",
              "      <td>NaN</td>\n",
              "      <td>NaN</td>\n",
              "      <td>1397779200,1397779200,1397779200,1397347200,13...</td>\n",
              "    </tr>\n",
              "    <tr>\n",
              "      <th>471746</th>\n",
              "      <td>0</td>\n",
              "      <td>NaN</td>\n",
              "      <td>NaN</td>\n",
              "      <td>NaN</td>\n",
              "      <td>1399507200</td>\n",
              "      <td>NaN</td>\n",
              "      <td>NaN</td>\n",
              "      <td>1397779200,1397779200,1397779200,1397347200,13...</td>\n",
              "    </tr>\n",
              "    <tr>\n",
              "      <th>471747</th>\n",
              "      <td>0</td>\n",
              "      <td>NaN</td>\n",
              "      <td>NaN</td>\n",
              "      <td>NaN</td>\n",
              "      <td>1399507200</td>\n",
              "      <td>NaN</td>\n",
              "      <td>NaN</td>\n",
              "      <td>1397779200,1397779200,1397779200,1397347200,13...</td>\n",
              "    </tr>\n",
              "  </tbody>\n",
              "</table>\n",
              "<p>471748 rows × 8 columns</p>\n",
              "</div>"
            ],
            "text/plain": [
              "        0  ...                              1138752000,1387584000\n",
              "0       0  ...                              1138752000,1387584000\n",
              "1       0  ...                              1138752000,1387584000\n",
              "2       0  ...                              1138752000,1387584000\n",
              "3       0  ...                              1138752000,1387584000\n",
              "4       0  ...                              1138752000,1387584000\n",
              "...    ..  ...                                                ...\n",
              "471743  0  ...  1397779200,1397779200,1397779200,1397347200,13...\n",
              "471744  0  ...  1397779200,1397779200,1397779200,1397347200,13...\n",
              "471745  0  ...  1397779200,1397779200,1397779200,1397347200,13...\n",
              "471746  0  ...  1397779200,1397779200,1397779200,1397347200,13...\n",
              "471747  0  ...  1397779200,1397779200,1397779200,1397347200,13...\n",
              "\n",
              "[471748 rows x 8 columns]"
            ]
          },
          "metadata": {},
          "execution_count": 106
        }
      ]
    },
    {
      "cell_type": "markdown",
      "source": [
        "# **Calculate the hybrid model**"
      ],
      "metadata": {
        "id": "gO6whnDV-h7B"
      }
    },
    {
      "cell_type": "code",
      "source": [
        "import numpy as np\n",
        "LSTUR = np.array([0.6428, 0.2985, 0.3314, 0.3929])\n",
        "SLi_Rec = np.array([0.5069, 0.6937, 0.6728, 0.7019])"
      ],
      "metadata": {
        "id": "-_hgDku3-mLq"
      },
      "execution_count": null,
      "outputs": []
    },
    {
      "cell_type": "code",
      "source": [
        "x = LSTUR - SLi_Rec\n",
        "print(x)"
      ],
      "metadata": {
        "colab": {
          "base_uri": "https://localhost:8080/"
        },
        "id": "HoJw1bQkAJHh",
        "outputId": "f309163e-ffd7-4c7b-b75d-e2a004cb9dfa"
      },
      "execution_count": null,
      "outputs": [
        {
          "output_type": "stream",
          "name": "stdout",
          "text": [
            "[ 0.1359 -0.3952 -0.3414 -0.309 ]\n"
          ]
        }
      ]
    },
    {
      "cell_type": "code",
      "source": [
        "## y = a (LSTUR - SLi-Rec) + SLi-Rec\n",
        "## a from 0 to 1"
      ],
      "metadata": {
        "id": "i0hontfV--3S"
      },
      "execution_count": null,
      "outputs": []
    },
    {
      "cell_type": "code",
      "source": [
        "a = 0.0\n",
        "result = a * x + SLi_Rec\n",
        "print(result)"
      ],
      "metadata": {
        "colab": {
          "base_uri": "https://localhost:8080/"
        },
        "id": "No39Mwo6AahL",
        "outputId": "828e2baa-9094-4f79-a7f6-23173e150cd5"
      },
      "execution_count": null,
      "outputs": [
        {
          "output_type": "stream",
          "name": "stdout",
          "text": [
            "[0.5069 0.6937 0.6728 0.7019]\n"
          ]
        }
      ]
    },
    {
      "cell_type": "code",
      "source": [
        "a = 0.1\n",
        "result = a * x + SLi_Rec\n",
        "print(result)"
      ],
      "metadata": {
        "colab": {
          "base_uri": "https://localhost:8080/"
        },
        "id": "wfpYa4TG_rAK",
        "outputId": "c05dcbdd-d55a-4d8e-9441-b787c1cd324d"
      },
      "execution_count": null,
      "outputs": [
        {
          "output_type": "stream",
          "name": "stdout",
          "text": [
            "[0.52049 0.65418 0.63866 0.671  ]\n"
          ]
        }
      ]
    },
    {
      "cell_type": "code",
      "source": [
        "a = 0.2\n",
        "result = a * x + SLi_Rec\n",
        "print(result)"
      ],
      "metadata": {
        "colab": {
          "base_uri": "https://localhost:8080/"
        },
        "id": "KJjiyGko_0AP",
        "outputId": "541961a5-213c-4083-d2fb-60744b9dfa7e"
      },
      "execution_count": null,
      "outputs": [
        {
          "output_type": "stream",
          "name": "stdout",
          "text": [
            "[0.53408 0.61466 0.60452 0.6401 ]\n"
          ]
        }
      ]
    },
    {
      "cell_type": "code",
      "source": [
        "a = 0.3\n",
        "result = a * x + SLi_Rec\n",
        "print(result)"
      ],
      "metadata": {
        "colab": {
          "base_uri": "https://localhost:8080/"
        },
        "id": "YG9AlXvtAd4D",
        "outputId": "84353b5f-613d-4e6a-e380-de3d855600e8"
      },
      "execution_count": null,
      "outputs": [
        {
          "output_type": "stream",
          "name": "stdout",
          "text": [
            "[0.54767 0.57514 0.57038 0.6092 ]\n"
          ]
        }
      ]
    },
    {
      "cell_type": "code",
      "source": [
        "a = 0.4\n",
        "result = a * x + SLi_Rec\n",
        "print(result)"
      ],
      "metadata": {
        "colab": {
          "base_uri": "https://localhost:8080/"
        },
        "id": "O3DT5gZyAfJS",
        "outputId": "5103211c-a382-4096-d2e8-6eb245d5aa88"
      },
      "execution_count": null,
      "outputs": [
        {
          "output_type": "stream",
          "name": "stdout",
          "text": [
            "[0.56126 0.53562 0.53624 0.5783 ]\n"
          ]
        }
      ]
    },
    {
      "cell_type": "code",
      "source": [
        "a = 0.5\n",
        "result = a * x + SLi_Rec\n",
        "print(result)"
      ],
      "metadata": {
        "colab": {
          "base_uri": "https://localhost:8080/"
        },
        "id": "vk_rTHqLAgUV",
        "outputId": "bc926ae5-ddef-4347-8348-d930f7699cce"
      },
      "execution_count": null,
      "outputs": [
        {
          "output_type": "stream",
          "name": "stdout",
          "text": [
            "[0.57485 0.4961  0.5021  0.5474 ]\n"
          ]
        }
      ]
    },
    {
      "cell_type": "code",
      "source": [
        "a = 0.6\n",
        "result = a * x + SLi_Rec\n",
        "print(result)"
      ],
      "metadata": {
        "colab": {
          "base_uri": "https://localhost:8080/"
        },
        "id": "fl2i2ysuAhZO",
        "outputId": "6a208b8a-4243-424a-fa42-26150eec814e"
      },
      "execution_count": null,
      "outputs": [
        {
          "output_type": "stream",
          "name": "stdout",
          "text": [
            "[0.58844 0.45658 0.46796 0.5165 ]\n"
          ]
        }
      ]
    },
    {
      "cell_type": "code",
      "source": [
        "a = 0.7\n",
        "result = a * x + SLi_Rec\n",
        "print(result)"
      ],
      "metadata": {
        "colab": {
          "base_uri": "https://localhost:8080/"
        },
        "id": "h2dsZ-MKAini",
        "outputId": "7a43d4b3-dde6-4947-f0cd-fd4244d3467b"
      },
      "execution_count": null,
      "outputs": [
        {
          "output_type": "stream",
          "name": "stdout",
          "text": [
            "[0.60203 0.41706 0.43382 0.4856 ]\n"
          ]
        }
      ]
    },
    {
      "cell_type": "code",
      "source": [
        "a = 0.8\n",
        "result = a * x + SLi_Rec\n",
        "print(result)"
      ],
      "metadata": {
        "colab": {
          "base_uri": "https://localhost:8080/"
        },
        "id": "d0F-OOGCAj4t",
        "outputId": "86e60dcb-01dc-4165-d11c-7d1aaac59fea"
      },
      "execution_count": null,
      "outputs": [
        {
          "output_type": "stream",
          "name": "stdout",
          "text": [
            "[0.61562 0.37754 0.39968 0.4547 ]\n"
          ]
        }
      ]
    },
    {
      "cell_type": "code",
      "source": [
        "a = 0.9\n",
        "result = a * x + SLi_Rec\n",
        "print(result)"
      ],
      "metadata": {
        "colab": {
          "base_uri": "https://localhost:8080/"
        },
        "id": "5zoosuJ0AlGE",
        "outputId": "15326f72-f5e0-4056-f6da-9f02a0b5c103"
      },
      "execution_count": null,
      "outputs": [
        {
          "output_type": "stream",
          "name": "stdout",
          "text": [
            "[0.62921 0.33802 0.36554 0.4238 ]\n"
          ]
        }
      ]
    },
    {
      "cell_type": "code",
      "source": [
        "a = 1.0\n",
        "result = a * x + SLi_Rec\n",
        "print(result)"
      ],
      "metadata": {
        "colab": {
          "base_uri": "https://localhost:8080/"
        },
        "id": "yI0IqXJ5AmWV",
        "outputId": "e549efe1-1f93-4056-c568-7215ca8da18b"
      },
      "execution_count": null,
      "outputs": [
        {
          "output_type": "stream",
          "name": "stdout",
          "text": [
            "[0.6428 0.2985 0.3314 0.3929]\n"
          ]
        }
      ]
    }
  ]
}